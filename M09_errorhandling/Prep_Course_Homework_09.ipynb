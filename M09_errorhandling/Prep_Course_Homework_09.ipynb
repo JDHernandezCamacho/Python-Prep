{
 "cells": [
  {
   "attachments": {},
   "cell_type": "markdown",
   "metadata": {},
   "source": [
    "## Manejo de errores"
   ]
  },
  {
   "attachments": {},
   "cell_type": "markdown",
   "metadata": {},
   "source": [
    "1) Con la clase creada en el módulo 7, tener en cuenta diferentes casos en que el código pudiera arrojar error. Por ejemplo, en la creación del objeto recibimos una lista de números enteros pero ¿qué pasa si se envía otro tipo de dato?"
   ]
  },
  {
   "cell_type": "code",
   "execution_count": 1,
   "metadata": {},
   "outputs": [],
   "source": [
    "import sys;\n",
    "# print(sys.path);\n",
    "sys.path.append (r\"C:/Users/ingdi/SoyHenry/SH-DS/Python-Prep/M08_classesyOOP/toolbox.py\");\n",
    "\n",
    "import toolbox as t;\n",
    "\n",
    "var_a_evaluar = \"Hola soy Diego\";\n",
    "tool = t.Toolsclass(var_a_evaluar);"
   ]
  },
  {
   "cell_type": "code",
   "execution_count": 2,
   "metadata": {},
   "outputs": [
    {
     "name": "stdout",
     "output_type": "stream",
     "text": [
      "La moda es el número o con una frecuencia de 3 veces.\n"
     ]
    }
   ],
   "source": [
    "# Al parecer aquí no marco ningún error, por ser una variable iterable, sin embargo, sigue existiendo un error\n",
    "# la letra \"o\" no es un número\n",
    "tool.valor_modal();"
   ]
  },
  {
   "cell_type": "code",
   "execution_count": 3,
   "metadata": {},
   "outputs": [
    {
     "ename": "TypeError",
     "evalue": "unsupported operand type(s) for -: 'str' and 'int'",
     "output_type": "error",
     "traceback": [
      "\u001b[1;31m---------------------------------------------------------------------------\u001b[0m",
      "\u001b[1;31mTypeError\u001b[0m                                 Traceback (most recent call last)",
      "\u001b[1;32mc:\\Users\\ingdi\\SoyHenry\\SH-DS\\Python-Prep\\M09_errorhandling\\Prep_Course_Homework_09.ipynb Celda 5\u001b[0m line \u001b[0;36m2\n\u001b[0;32m      <a href='vscode-notebook-cell:/c%3A/Users/ingdi/SoyHenry/SH-DS/Python-Prep/M09_errorhandling/Prep_Course_Homework_09.ipynb#W4sZmlsZQ%3D%3D?line=0'>1</a>\u001b[0m \u001b[39m#Para poder llevar a cabo la función es necesario que se envien datos numéricos, de tipo int o float.\u001b[39;00m\n\u001b[1;32m----> <a href='vscode-notebook-cell:/c%3A/Users/ingdi/SoyHenry/SH-DS/Python-Prep/M09_errorhandling/Prep_Course_Homework_09.ipynb#W4sZmlsZQ%3D%3D?line=1'>2</a>\u001b[0m tool\u001b[39m.\u001b[39;49mconversion_tempratura(\u001b[39m\"\u001b[39;49m\u001b[39mFahrenheit\u001b[39;49m\u001b[39m\"\u001b[39;49m,\u001b[39m\"\u001b[39;49m\u001b[39mCelcius\u001b[39;49m\u001b[39m\"\u001b[39;49m);\n",
      "File \u001b[1;32mc:\\Users\\ingdi\\SoyHenry\\SH-DS\\Python-Prep\\M09_errorhandling\\toolbox.py:65\u001b[0m, in \u001b[0;36mToolsclass.conversion_tempratura\u001b[1;34m(self, unidad_origen, unidad_destino)\u001b[0m\n\u001b[0;32m     63\u001b[0m \u001b[39mdef\u001b[39;00m \u001b[39mconversion_tempratura\u001b[39m (\u001b[39mself\u001b[39m, unidad_origen, unidad_destino):\n\u001b[0;32m     64\u001b[0m     \u001b[39mfor\u001b[39;00m numero \u001b[39min\u001b[39;00m \u001b[39mself\u001b[39m\u001b[39m.\u001b[39mlista:\n\u001b[1;32m---> 65\u001b[0m         conversion \u001b[39m=\u001b[39m \u001b[39mself\u001b[39;49m\u001b[39m.\u001b[39;49m__conversion_temperatura(numero, unidad_origen, unidad_destino);\n\u001b[0;32m     66\u001b[0m         \u001b[39mprint\u001b[39m(conversion)\n",
      "File \u001b[1;32mc:\\Users\\ingdi\\SoyHenry\\SH-DS\\Python-Prep\\M09_errorhandling\\toolbox.py:74\u001b[0m, in \u001b[0;36mToolsclass.__conversion_temperatura\u001b[1;34m(self, valor, unidad_medida, medida_a_convertir)\u001b[0m\n\u001b[0;32m     72\u001b[0m     \u001b[39mreturn\u001b[39;00m (\u001b[39mf\u001b[39m\u001b[39m\"\u001b[39m\u001b[39m{\u001b[39;00mvalor\u001b[39m}\u001b[39;00m\u001b[39m°C equivalen a \u001b[39m\u001b[39m{\u001b[39;00m\u001b[39mround\u001b[39m(fahrenheit,\u001b[39m1\u001b[39m)\u001b[39m}\u001b[39;00m\u001b[39m°F.\u001b[39m\u001b[39m\"\u001b[39m);\n\u001b[0;32m     73\u001b[0m \u001b[39melif\u001b[39;00m unidad_medida \u001b[39m==\u001b[39m \u001b[39m\"\u001b[39m\u001b[39mFahrenheit\u001b[39m\u001b[39m\"\u001b[39m \u001b[39mand\u001b[39;00m medida_a_convertir \u001b[39m==\u001b[39m \u001b[39m\"\u001b[39m\u001b[39mCelcius\u001b[39m\u001b[39m\"\u001b[39m:\n\u001b[1;32m---> 74\u001b[0m     celcius \u001b[39m=\u001b[39m (valor \u001b[39m-\u001b[39;49m \u001b[39m32\u001b[39;49m) \u001b[39m*\u001b[39m \u001b[39m5\u001b[39m\u001b[39m/\u001b[39m\u001b[39m9\u001b[39m;\n\u001b[0;32m     75\u001b[0m     \u001b[39mreturn\u001b[39;00m (\u001b[39mf\u001b[39m\u001b[39m\"\u001b[39m\u001b[39m{\u001b[39;00mvalor\u001b[39m}\u001b[39;00m\u001b[39m°F equivalen a \u001b[39m\u001b[39m{\u001b[39;00m\u001b[39mround\u001b[39m(celcius,\u001b[39m1\u001b[39m)\u001b[39m}\u001b[39;00m\u001b[39m°C.\u001b[39m\u001b[39m\"\u001b[39m);\n\u001b[0;32m     76\u001b[0m \u001b[39melif\u001b[39;00m unidad_medida \u001b[39m==\u001b[39m \u001b[39m\"\u001b[39m\u001b[39mCelcius\u001b[39m\u001b[39m\"\u001b[39m \u001b[39mand\u001b[39;00m medida_a_convertir \u001b[39m==\u001b[39m \u001b[39m\"\u001b[39m\u001b[39mKelvin\u001b[39m\u001b[39m\"\u001b[39m:\n",
      "\u001b[1;31mTypeError\u001b[0m: unsupported operand type(s) for -: 'str' and 'int'"
     ]
    }
   ],
   "source": [
    "#Para poder llevar a cabo la función es necesario que se envien datos numéricos, de tipo int o float.\n",
    "tool.conversion_tempratura(\"Fahrenheit\",\"Celcius\");"
   ]
  },
  {
   "cell_type": "code",
   "execution_count": 4,
   "metadata": {},
   "outputs": [
    {
     "name": "stdout",
     "output_type": "stream",
     "text": [
      "El factorial de H es El dato introducido no es un número entero.\n",
      "El factorial de o es El dato introducido no es un número entero.\n",
      "El factorial de l es El dato introducido no es un número entero.\n",
      "El factorial de a es El dato introducido no es un número entero.\n",
      "El factorial de   es El dato introducido no es un número entero.\n",
      "El factorial de s es El dato introducido no es un número entero.\n",
      "El factorial de o es El dato introducido no es un número entero.\n",
      "El factorial de y es El dato introducido no es un número entero.\n",
      "El factorial de   es El dato introducido no es un número entero.\n",
      "El factorial de D es El dato introducido no es un número entero.\n",
      "El factorial de i es El dato introducido no es un número entero.\n",
      "El factorial de e es El dato introducido no es un número entero.\n",
      "El factorial de g es El dato introducido no es un número entero.\n",
      "El factorial de o es El dato introducido no es un número entero.\n"
     ]
    }
   ],
   "source": [
    "#Dentro de la función se encuentra un if que evalua si el dato es un dato de tipo número, en caso de que no,\n",
    "#envia el mensaje de no es un número entero para calcular factorial\n",
    "#por esa razón devuelve ese resultado.\n",
    "\n",
    "tool.operacion_factorial();"
   ]
  },
  {
   "cell_type": "code",
   "execution_count": 5,
   "metadata": {},
   "outputs": [
    {
     "ename": "TypeError",
     "evalue": "'>=' not supported between instances of 'str' and 'int'",
     "output_type": "error",
     "traceback": [
      "\u001b[1;31m---------------------------------------------------------------------------\u001b[0m",
      "\u001b[1;31mTypeError\u001b[0m                                 Traceback (most recent call last)",
      "\u001b[1;32mc:\\Users\\ingdi\\SoyHenry\\SH-DS\\Python-Prep\\M09_errorhandling\\Prep_Course_Homework_09.ipynb Celda 7\u001b[0m line \u001b[0;36m2\n\u001b[0;32m      <a href='vscode-notebook-cell:/c%3A/Users/ingdi/SoyHenry/SH-DS/Python-Prep/M09_errorhandling/Prep_Course_Homework_09.ipynb#W6sZmlsZQ%3D%3D?line=0'>1</a>\u001b[0m \u001b[39m# Mismo caso que la función conversión de temperaturas, es necesario un valor númerico de tipo int.\u001b[39;00m\n\u001b[1;32m----> <a href='vscode-notebook-cell:/c%3A/Users/ingdi/SoyHenry/SH-DS/Python-Prep/M09_errorhandling/Prep_Course_Homework_09.ipynb#W6sZmlsZQ%3D%3D?line=1'>2</a>\u001b[0m tool\u001b[39m.\u001b[39;49mverificar_primo();\n",
      "File \u001b[1;32mc:\\Users\\ingdi\\SoyHenry\\SH-DS\\Python-Prep\\M09_errorhandling\\toolbox.py:8\u001b[0m, in \u001b[0;36mToolsclass.verificar_primo\u001b[1;34m(self)\u001b[0m\n\u001b[0;32m      6\u001b[0m \u001b[39mdef\u001b[39;00m \u001b[39mverificar_primo\u001b[39m (\u001b[39mself\u001b[39m):\n\u001b[0;32m      7\u001b[0m     \u001b[39mfor\u001b[39;00m numero \u001b[39min\u001b[39;00m \u001b[39mself\u001b[39m\u001b[39m.\u001b[39mlista:\n\u001b[1;32m----> 8\u001b[0m         es_primo \u001b[39m=\u001b[39m \u001b[39mself\u001b[39;49m\u001b[39m.\u001b[39;49m__verificar_primo(numero);\n\u001b[0;32m      9\u001b[0m         \u001b[39mif\u001b[39;00m (es_primo):\n\u001b[0;32m     10\u001b[0m             \u001b[39mprint\u001b[39m (\u001b[39mf\u001b[39m\u001b[39m\"\u001b[39m\u001b[39mEl número \u001b[39m\u001b[39m{\u001b[39;00mnumero\u001b[39m}\u001b[39;00m\u001b[39m de la lista es primo.\u001b[39m\u001b[39m\"\u001b[39m);\n",
      "File \u001b[1;32mc:\\Users\\ingdi\\SoyHenry\\SH-DS\\Python-Prep\\M09_errorhandling\\toolbox.py:15\u001b[0m, in \u001b[0;36mToolsclass.__verificar_primo\u001b[1;34m(self, numero, es_primo)\u001b[0m\n\u001b[0;32m     14\u001b[0m \u001b[39mdef\u001b[39;00m \u001b[39m__verificar_primo\u001b[39m (\u001b[39mself\u001b[39m, numero, es_primo \u001b[39m=\u001b[39m \u001b[39mTrue\u001b[39;00m):\n\u001b[1;32m---> 15\u001b[0m     \u001b[39mif\u001b[39;00m numero \u001b[39m>\u001b[39;49m\u001b[39m=\u001b[39;49m \u001b[39m2\u001b[39;49m:\n\u001b[0;32m     16\u001b[0m         \u001b[39mfor\u001b[39;00m divisor \u001b[39min\u001b[39;00m \u001b[39mrange\u001b[39m (\u001b[39m2\u001b[39m, numero):\n\u001b[0;32m     17\u001b[0m             \u001b[39mif\u001b[39;00m (numero \u001b[39m%\u001b[39m divisor \u001b[39m==\u001b[39m \u001b[39m0\u001b[39m):\n",
      "\u001b[1;31mTypeError\u001b[0m: '>=' not supported between instances of 'str' and 'int'"
     ]
    }
   ],
   "source": [
    "# Mismo caso que la función conversión de temperaturas, es necesario un valor númerico de tipo int.\n",
    "tool.verificar_primo();"
   ]
  },
  {
   "cell_type": "code",
   "execution_count": 3,
   "metadata": {},
   "outputs": [
    {
     "ename": "ValueError",
     "evalue": "La variable no es un a lista de números, se ha creado una lista vacia.",
     "output_type": "error",
     "traceback": [
      "\u001b[1;31m---------------------------------------------------------------------------\u001b[0m",
      "\u001b[1;31mValueError\u001b[0m                                Traceback (most recent call last)",
      "\u001b[1;32mc:\\Users\\ingdi\\SoyHenry\\SH-DS\\Python-Prep\\M09_errorhandling\\Prep_Course_Homework_09.ipynb Celda 8\u001b[0m line \u001b[0;36m4\n\u001b[0;32m      <a href='vscode-notebook-cell:/c%3A/Users/ingdi/SoyHenry/SH-DS/Python-Prep/M09_errorhandling/Prep_Course_Homework_09.ipynb#X10sZmlsZQ%3D%3D?line=0'>1</a>\u001b[0m \u001b[39mimport\u001b[39;00m \u001b[39mtoolbox\u001b[39;00m \u001b[39mas\u001b[39;00m \u001b[39mt\u001b[39;00m;\n\u001b[0;32m      <a href='vscode-notebook-cell:/c%3A/Users/ingdi/SoyHenry/SH-DS/Python-Prep/M09_errorhandling/Prep_Course_Homework_09.ipynb#X10sZmlsZQ%3D%3D?line=1'>2</a>\u001b[0m var_a_evaluar \u001b[39m=\u001b[39m \u001b[39m\"\u001b[39m\u001b[39mHola, soy una variable string.\u001b[39m\u001b[39m\"\u001b[39m;\n\u001b[1;32m----> <a href='vscode-notebook-cell:/c%3A/Users/ingdi/SoyHenry/SH-DS/Python-Prep/M09_errorhandling/Prep_Course_Homework_09.ipynb#X10sZmlsZQ%3D%3D?line=3'>4</a>\u001b[0m tool \u001b[39m=\u001b[39m t\u001b[39m.\u001b[39;49mToolsclass(var_a_evaluar);\n",
      "File \u001b[1;32mc:\\Users\\ingdi\\SoyHenry\\SH-DS\\Python-Prep\\M09_errorhandling\\toolbox.py:5\u001b[0m, in \u001b[0;36mToolsclass.__init__\u001b[1;34m(self, lista_numeros)\u001b[0m\n\u001b[0;32m      3\u001b[0m \u001b[39mif\u001b[39;00m (\u001b[39mtype\u001b[39m(lista_numeros) \u001b[39m!=\u001b[39m \u001b[39mlist\u001b[39m):\n\u001b[0;32m      4\u001b[0m     \u001b[39mself\u001b[39m\u001b[39m.\u001b[39mlista \u001b[39m=\u001b[39m [];\n\u001b[1;32m----> 5\u001b[0m     \u001b[39mraise\u001b[39;00m \u001b[39mValueError\u001b[39;00m (\u001b[39m\"\u001b[39m\u001b[39mLa variable no es un a lista de números, se ha creado una lista vacia.\u001b[39m\u001b[39m\"\u001b[39m);\n\u001b[0;32m      6\u001b[0m \u001b[39melse\u001b[39;00m :\n\u001b[0;32m      7\u001b[0m     \u001b[39mself\u001b[39m\u001b[39m.\u001b[39mlista \u001b[39m=\u001b[39m lista_numeros\n",
      "\u001b[1;31mValueError\u001b[0m: La variable no es un a lista de números, se ha creado una lista vacia."
     ]
    }
   ],
   "source": [
    "import toolbox as t;\n",
    "var_a_evaluar = \"Hola, soy una variable string.\";\n",
    "\n",
    "tool = t.Toolsclass(var_a_evaluar);"
   ]
  },
  {
   "cell_type": "code",
   "execution_count": 4,
   "metadata": {},
   "outputs": [
    {
     "ename": "NameError",
     "evalue": "name 'tool' is not defined",
     "output_type": "error",
     "traceback": [
      "\u001b[1;31m---------------------------------------------------------------------------\u001b[0m",
      "\u001b[1;31mNameError\u001b[0m                                 Traceback (most recent call last)",
      "\u001b[1;32mc:\\Users\\ingdi\\SoyHenry\\SH-DS\\Python-Prep\\M09_errorhandling\\Prep_Course_Homework_09.ipynb Celda 9\u001b[0m line \u001b[0;36m1\n\u001b[1;32m----> <a href='vscode-notebook-cell:/c%3A/Users/ingdi/SoyHenry/SH-DS/Python-Prep/M09_errorhandling/Prep_Course_Homework_09.ipynb#X11sZmlsZQ%3D%3D?line=0'>1</a>\u001b[0m tool\u001b[39m.\u001b[39mverificar_primo();\n",
      "\u001b[1;31mNameError\u001b[0m: name 'tool' is not defined"
     ]
    }
   ],
   "source": [
    "tool.verificar_primo();"
   ]
  },
  {
   "cell_type": "code",
   "execution_count": 11,
   "metadata": {},
   "outputs": [],
   "source": [
    "import toolbox as t;\n",
    "var_a_evaluar = [1,6,3,4,2,6,1,5,4,8,1,0,5];\n",
    "tool = t.Toolsclass (var_a_evaluar);\n"
   ]
  },
  {
   "cell_type": "code",
   "execution_count": 14,
   "metadata": {},
   "outputs": [
    {
     "name": "stdout",
     "output_type": "stream",
     "text": [
      "La moda es el número 1 con una frecuencia de 3 veces.\n"
     ]
    }
   ],
   "source": [
    "tool.valor_modal();"
   ]
  },
  {
   "attachments": {},
   "cell_type": "markdown",
   "metadata": {},
   "source": [
    "2) En la función que hace la conversión de grados, validar que los parámetros enviados sean los esperados, de no serlo, informar cuáles son los valores esperados."
   ]
  },
  {
   "cell_type": "code",
   "execution_count": 13,
   "metadata": {},
   "outputs": [],
   "source": [
    "import importlib;\n",
    "importlib.reload(t);"
   ]
  },
  {
   "cell_type": "code",
   "execution_count": 8,
   "metadata": {},
   "outputs": [
    {
     "name": "stdout",
     "output_type": "stream",
     "text": [
      "La lista [1, 6, 3, 4, 2, 6, 1, 5, 4, 8, 1, 0, 5] convertida es: [274.1, 279.1, 276.1, 277.1, 275.1, 279.1, 274.1, 278.1, 277.1, 281.1, 274.1, 273.1, 278.1]\n"
     ]
    }
   ],
   "source": [
    "var_a_evaluar = [1,6,3,4,2,6,1,5,4,8,1,0,5];\n",
    "tool = t.Toolsclass (var_a_evaluar);\n",
    "\n",
    "print(f\"La lista {var_a_evaluar} convertida es: {tool.conversion_tempratura(\"Celcius\", \"Kelvin\")}\");"
   ]
  },
  {
   "attachments": {},
   "cell_type": "markdown",
   "metadata": {},
   "source": [
    "3) Importar el modulo \"unittest\" y crear los siguientes casos de pruebas sobre la clase utilizada en el punto 2<br>\n",
    "Creacion del objeto incorrecta<br>\n",
    "Creacion correcta del objeto<br>\n",
    "Metodo valor_modal()<br>\n",
    "\n",
    "Se puede usar \"raise ValueError()\" en la creación de la clase para verificar el error. Investigar sobre esta funcionalidad."
   ]
  },
  {
   "cell_type": "code",
   "execution_count": 76,
   "metadata": {},
   "outputs": [],
   "source": [
    "import importlib;\n",
    "importlib.reload(t);"
   ]
  },
  {
   "cell_type": "code",
   "execution_count": 53,
   "metadata": {},
   "outputs": [],
   "source": [
    "import toolbox as t;\n",
    "var_a_evaluar = [1,6,3,4,2,6,1,5,4,8,1,0,5];\n",
    "tool = t.Toolsclass (var_a_evaluar);"
   ]
  },
  {
   "cell_type": "code",
   "execution_count": 84,
   "metadata": {},
   "outputs": [],
   "source": [
    "import unittest;\n",
    "\n",
    "class PruebaDeErrores (unittest.TestCase):\n",
    "    def test_crear_objeto_error (self):\n",
    "        param = \"Hola soy Diego\";\n",
    "        self.assertRaises(ValueError, t.Toolsclass, param);\n",
    "\n",
    "    def test_crear_objeto_ok (self):\n",
    "        param = [1,7,6,5,3,6];\n",
    "        tool = t.Toolsclass(param);\n",
    "        self.assertEqual(tool.lista, param);\n",
    "\n",
    "    def test_moda (self):\n",
    "        lista = [1,7,6,5,3,6];\n",
    "        tool = t.Toolsclass(lista);\n",
    "        moda = tool.valor_modal();\n",
    "        moda_esperada = [6, 2];\n",
    "        self.assertEqual(moda, moda_esperada);\n",
    "        \n",
    "\n"
   ]
  },
  {
   "cell_type": "code",
   "execution_count": 85,
   "metadata": {},
   "outputs": [
    {
     "name": "stderr",
     "output_type": "stream",
     "text": [
      "test_crear_objeto_error (__main__.PruebaDeErrores.test_crear_objeto_error) ... ok\n",
      "test_crear_objeto_ok (__main__.PruebaDeErrores.test_crear_objeto_ok) ... ok\n",
      "test_moda (__main__.PruebaDeErrores.test_moda) ... ok\n",
      "\n",
      "----------------------------------------------------------------------\n",
      "Ran 3 tests in 0.014s\n",
      "\n",
      "OK\n"
     ]
    }
   ],
   "source": [
    "unittest.main(argv=[''], verbosity=2, exit=False);"
   ]
  },
  {
   "attachments": {},
   "cell_type": "markdown",
   "metadata": {},
   "source": [
    "4) Probar una creación incorrecta y visualizar la salida del \"raise\""
   ]
  },
  {
   "cell_type": "code",
   "execution_count": 86,
   "metadata": {},
   "outputs": [
    {
     "ename": "ValueError",
     "evalue": "La variable no es una lista de números, se ha creado una lista vacia.",
     "output_type": "error",
     "traceback": [
      "\u001b[1;31m---------------------------------------------------------------------------\u001b[0m",
      "\u001b[1;31mValueError\u001b[0m                                Traceback (most recent call last)",
      "Cell \u001b[1;32mIn[86], line 1\u001b[0m\n\u001b[1;32m----> 1\u001b[0m tool \u001b[38;5;241m=\u001b[39m \u001b[43mt\u001b[49m\u001b[38;5;241;43m.\u001b[39;49m\u001b[43mToolsclass\u001b[49m\u001b[43m(\u001b[49m\u001b[38;5;124;43m\"\u001b[39;49m\u001b[38;5;124;43mDiego\u001b[39;49m\u001b[38;5;124;43m\"\u001b[39;49m\u001b[43m)\u001b[49m;\n",
      "File \u001b[1;32mc:\\Users\\ingdi\\SoyHenry\\SH-DS\\Python-Prep\\M09_errorhandling\\toolbox.py:5\u001b[0m, in \u001b[0;36mToolsclass.__init__\u001b[1;34m(self, lista_numeros)\u001b[0m\n\u001b[0;32m      3\u001b[0m \u001b[38;5;28;01mif\u001b[39;00m (\u001b[38;5;28mtype\u001b[39m(lista_numeros) \u001b[38;5;241m!=\u001b[39m \u001b[38;5;28mlist\u001b[39m):\n\u001b[0;32m      4\u001b[0m     \u001b[38;5;28mself\u001b[39m\u001b[38;5;241m.\u001b[39mlista \u001b[38;5;241m=\u001b[39m [];\n\u001b[1;32m----> 5\u001b[0m     \u001b[38;5;28;01mraise\u001b[39;00m \u001b[38;5;167;01mValueError\u001b[39;00m (\u001b[38;5;124m\"\u001b[39m\u001b[38;5;124mLa variable no es una lista de números, se ha creado una lista vacia.\u001b[39m\u001b[38;5;124m\"\u001b[39m);\n\u001b[0;32m      6\u001b[0m \u001b[38;5;28;01melse\u001b[39;00m :\n\u001b[0;32m      7\u001b[0m     \u001b[38;5;28mself\u001b[39m\u001b[38;5;241m.\u001b[39mlista \u001b[38;5;241m=\u001b[39m lista_numeros\n",
      "\u001b[1;31mValueError\u001b[0m: La variable no es una lista de números, se ha creado una lista vacia."
     ]
    }
   ],
   "source": [
    "tool = t.Toolsclass(\"Diego\");"
   ]
  },
  {
   "cell_type": "code",
   "execution_count": 234,
   "metadata": {},
   "outputs": [],
   "source": [
    "importlib;\n",
    "importlib.reload(t);"
   ]
  },
  {
   "cell_type": "code",
   "execution_count": 235,
   "metadata": {},
   "outputs": [
    {
     "ename": "ValueError",
     "evalue": "La lista contiene números negativos, se ha creado una lista vacia.",
     "output_type": "error",
     "traceback": [
      "\u001b[1;31m---------------------------------------------------------------------------\u001b[0m",
      "\u001b[1;31mValueError\u001b[0m                                Traceback (most recent call last)",
      "Cell \u001b[1;32mIn[235], line 4\u001b[0m\n\u001b[0;32m      2\u001b[0m lista \u001b[38;5;241m=\u001b[39m [\u001b[38;5;241m-\u001b[39m\u001b[38;5;241m5\u001b[39m,\u001b[38;5;241m1\u001b[39m,\u001b[38;5;241m3\u001b[39m,\u001b[38;5;241m-\u001b[39m\u001b[38;5;241m4\u001b[39m];\n\u001b[0;32m      3\u001b[0m tool \u001b[38;5;241m=\u001b[39m t\u001b[38;5;241m.\u001b[39mToolsclass(lista);\n\u001b[1;32m----> 4\u001b[0m factorial \u001b[38;5;241m=\u001b[39m \u001b[43mtool\u001b[49m\u001b[38;5;241;43m.\u001b[39;49m\u001b[43moperacion_factorial\u001b[49m\u001b[43m(\u001b[49m\u001b[43m)\u001b[49m;\n\u001b[0;32m      5\u001b[0m \u001b[38;5;28mprint\u001b[39m(factorial);\n",
      "File \u001b[1;32mc:\\Users\\ingdi\\SoyHenry\\SH-DS\\Python-Prep\\M09_errorhandling\\toolbox.py:124\u001b[0m, in \u001b[0;36mToolsclass.operacion_factorial\u001b[1;34m(self)\u001b[0m\n\u001b[0;32m    121\u001b[0m         \u001b[38;5;66;03m# print (f\"El factorial de {numero} es {resultado}\");\u001b[39;00m\n\u001b[0;32m    122\u001b[0m     \u001b[38;5;28;01melse\u001b[39;00m:\n\u001b[0;32m    123\u001b[0m         resultado \u001b[38;5;241m=\u001b[39m [];\n\u001b[1;32m--> 124\u001b[0m         \u001b[38;5;28;01mraise\u001b[39;00m \u001b[38;5;167;01mValueError\u001b[39;00m (\u001b[38;5;124m\"\u001b[39m\u001b[38;5;124mLa lista contiene números negativos, se ha creado una lista vacia.\u001b[39m\u001b[38;5;124m\"\u001b[39m);\n\u001b[0;32m    126\u001b[0m \u001b[38;5;28;01mreturn\u001b[39;00m resultado\n",
      "\u001b[1;31mValueError\u001b[0m: La lista contiene números negativos, se ha creado una lista vacia."
     ]
    }
   ],
   "source": [
    "import toolbox as t;\n",
    "lista = [-5,1,3,-4];\n",
    "tool = t.Toolsclass(lista);\n",
    "factorial = tool.operacion_factorial();\n",
    "print(factorial);"
   ]
  },
  {
   "attachments": {},
   "cell_type": "markdown",
   "metadata": {},
   "source": [
    "6) Agregar casos de pruebas para el método verifica_primos() realizando el cambio en la clase, para que devuelva una lista de True o False en función de que el elemento en la posisicón sea o no primo"
   ]
  },
  {
   "cell_type": "code",
   "execution_count": 225,
   "metadata": {},
   "outputs": [],
   "source": [
    "import toolbox as t;"
   ]
  },
  {
   "cell_type": "code",
   "execution_count": 253,
   "metadata": {},
   "outputs": [
    {
     "name": "stdout",
     "output_type": "stream",
     "text": [
      "[False, True, True, False, True, True, True]\n"
     ]
    }
   ],
   "source": [
    "lista = [1,2,3,4,2,3,3];\n",
    "tool = t.Toolsclass(lista);\n",
    "primos = tool.verificar_primo();\n",
    "print(primos);"
   ]
  },
  {
   "cell_type": "code",
   "execution_count": 273,
   "metadata": {},
   "outputs": [],
   "source": [
    "importlib;\n",
    "importlib.reload(t);\n"
   ]
  },
  {
   "cell_type": "code",
   "execution_count": 276,
   "metadata": {},
   "outputs": [],
   "source": [
    "import unittest;\n",
    "\n",
    "class PruebaDeErroresNumerosPrimos (unittest.TestCase):\n",
    "    def test_verificar_num_primos (self):\n",
    "        lista = [1,2,3,4,2,3,3];\n",
    "        tool = t.Toolsclass(lista);\n",
    "        no_primos = tool.verificar_primo();\n",
    "        result_ok = [False, True, True, False, True, True, True];\n",
    "        self.assertEqual(no_primos, result_ok);\n",
    "       "
   ]
  },
  {
   "cell_type": "code",
   "execution_count": 277,
   "metadata": {},
   "outputs": [
    {
     "name": "stderr",
     "output_type": "stream",
     "text": [
      "test_crear_objeto_error (__main__.PruebaDeErrores.test_crear_objeto_error) ... ok\n",
      "test_crear_objeto_ok (__main__.PruebaDeErrores.test_crear_objeto_ok) ... ok\n",
      "test_moda (__main__.PruebaDeErrores.test_moda) ... ok\n",
      "test_conversion_celcius_to_fahrenheit (__main__.PruebaDeErroresConversion.test_conversion_celcius_to_fahrenheit) ... ok\n",
      "test_conversion_celcius_to_kelvin (__main__.PruebaDeErroresConversion.test_conversion_celcius_to_kelvin) ... ok\n",
      "test_conversion_fahrenheit_to_celcius (__main__.PruebaDeErroresConversion.test_conversion_fahrenheit_to_celcius) ... ok\n",
      "test_conversion_fahrenheit_to_kelvin (__main__.PruebaDeErroresConversion.test_conversion_fahrenheit_to_kelvin) ... ok\n",
      "test_conversion_kelvin_to_celcius (__main__.PruebaDeErroresConversion.test_conversion_kelvin_to_celcius) ... ok\n",
      "test_conversion_kelvin_to_fahrenheit (__main__.PruebaDeErroresConversion.test_conversion_kelvin_to_fahrenheit) ... ok\n",
      "test_factorial (__main__.PruebaDeErroresFactorial.test_factorial) ... ok\n",
      "test_verificar_num_primos (__main__.PruebaDeErroresNumerosPrimos.test_verificar_num_primos) ... ok\n",
      "\n",
      "----------------------------------------------------------------------\n",
      "Ran 11 tests in 0.058s\n",
      "\n",
      "OK\n"
     ]
    }
   ],
   "source": [
    "unittest.main(argv=[''], verbosity=2, exit=False);"
   ]
  },
  {
   "attachments": {},
   "cell_type": "markdown",
   "metadata": {},
   "source": [
    "7) Agregar casos de pruebas para el método conversion_grados()"
   ]
  },
  {
   "cell_type": "code",
   "execution_count": 199,
   "metadata": {},
   "outputs": [],
   "source": [
    "import unittest;\n",
    "\n",
    "class PruebaDeErroresConversion(unittest.TestCase):\n",
    "    def test_conversion_celcius_to_fahrenheit (self):\n",
    "        lista = [1,2,3,4,2,3,3];\n",
    "        tool = t.Toolsclass(lista);\n",
    "        a_grados_fhr = tool.conversion_tempratura(\"Celcius\", \"Fahrenheit\");\n",
    "        result_ok = [33.8, 35.6, 37.4, 39.2, 35.6, 37.4, 37.4];\n",
    "        self.assertEqual(a_grados_fhr, result_ok);\n",
    "\n",
    "    def test_conversion_celcius_to_kelvin (self):\n",
    "        lista = [1,2,3,4,2,3,3];\n",
    "        tool = t.Toolsclass(lista);\n",
    "        a_grados_klvn = tool.conversion_tempratura(\"Celcius\", \"Kelvin\");\n",
    "        result_ok = [274.1, 275.1, 276.1, 277.1, 275.1, 276.1, 276.1];\n",
    "        self.assertEqual(a_grados_klvn, result_ok);\n",
    "\n",
    "    def test_conversion_fahrenheit_to_celcius (self):\n",
    "        lista = [1,2,3,4,2,3,3];\n",
    "        tool = t.Toolsclass(lista);\n",
    "        a_grados_clcs = tool.conversion_tempratura(\"Fahrenheit\", \"Celcius\");\n",
    "        result_ok = [-17.2, -16.7, -16.1, -15.6, -16.7, -16.1, -16.1];\n",
    "        self.assertEqual(a_grados_clcs, result_ok);\n",
    "\n",
    "    def test_conversion_fahrenheit_to_kelvin (self):\n",
    "        lista = [1,2,3,4,2,3,3];\n",
    "        tool = t.Toolsclass(lista);\n",
    "        a_grados_klvn = tool.conversion_tempratura(\"Fahrenheit\", \"Kelvin\");\n",
    "        result_ok = [255.9, 256.5, 257.0, 257.6, 256.5, 257.0, 257.0];\n",
    "        self.assertEqual(a_grados_klvn, result_ok);\n",
    "\n",
    "    def test_conversion_kelvin_to_celcius (self):\n",
    "        lista = [1,2,3,4,2,3,3];\n",
    "        tool = t.Toolsclass(lista);\n",
    "        a_grados_clcs = tool.conversion_tempratura(\"Kelvin\", \"Celcius\");\n",
    "        result_ok = [-272.1, -271.1, -270.1, -269.1, -271.1, -270.1, -270.1];\n",
    "        self.assertEqual(a_grados_clcs, result_ok);\n",
    "\n",
    "    def test_conversion_kelvin_to_fahrenheit (self):\n",
    "        lista = [1,2,3,4,2,3,3];\n",
    "        tool = t.Toolsclass(lista);\n",
    "        a_grados_fhr = tool.conversion_tempratura(\"Kelvin\", \"Fahrenheit\");\n",
    "        result_ok = [-457.9, -456.1, -454.3, -452.5, -456.1, -454.3, -454.3];\n",
    "        self.assertEqual(a_grados_fhr, result_ok);"
   ]
  },
  {
   "cell_type": "code",
   "execution_count": 197,
   "metadata": {},
   "outputs": [],
   "source": [
    "importlib.reload(t);"
   ]
  },
  {
   "cell_type": "code",
   "execution_count": 198,
   "metadata": {},
   "outputs": [
    {
     "name": "stderr",
     "output_type": "stream",
     "text": [
      "test_crear_objeto_error (__main__.PruebaDeErrores.test_crear_objeto_error) ... ok\n",
      "test_crear_objeto_ok (__main__.PruebaDeErrores.test_crear_objeto_ok) ... ok\n",
      "test_moda (__main__.PruebaDeErrores.test_moda) ... ok\n",
      "test_conversion_celcius_to_fahrenheit (__main__.PruebaDeErroresConversion.test_conversion_celcius_to_fahrenheit) ... ok\n",
      "test_conversion_celcius_to_kelvin (__main__.PruebaDeErroresConversion.test_conversion_celcius_to_kelvin) ... ok\n",
      "test_conversion_fahrenheit_to_celcius (__main__.PruebaDeErroresConversion.test_conversion_fahrenheit_to_celcius) ... ok\n",
      "test_conversion_fahrenheit_to_kelvin (__main__.PruebaDeErroresConversion.test_conversion_fahrenheit_to_kelvin) ... ok\n",
      "test_conversion_kelvin_to_celcius (__main__.PruebaDeErroresConversion.test_conversion_kelvin_to_celcius) ... ok\n",
      "test_conversion_kelvin_to_fahrenheit (__main__.PruebaDeErroresConversion.test_conversion_kelvin_to_fahrenheit) ... ok\n",
      "test_verificar_num_primos (__main__.PruebaDeErroresFactorial.test_verificar_num_primos) ... ok\n",
      "\n",
      "----------------------------------------------------------------------\n",
      "Ran 10 tests in 0.048s\n",
      "\n",
      "OK\n"
     ]
    }
   ],
   "source": [
    "unittest.main(argv=[''], verbosity=2, exit=False);"
   ]
  },
  {
   "attachments": {},
   "cell_type": "markdown",
   "metadata": {},
   "source": [
    "8) Agregar casos de pruebas para el método factorial()"
   ]
  },
  {
   "cell_type": "code",
   "execution_count": 207,
   "metadata": {},
   "outputs": [],
   "source": [
    "importlib.reload(t);"
   ]
  },
  {
   "cell_type": "code",
   "execution_count": 209,
   "metadata": {},
   "outputs": [
    {
     "name": "stdout",
     "output_type": "stream",
     "text": [
      "[6, 120, 479001600, 1307674368000]\n"
     ]
    }
   ],
   "source": [
    "lista = [3,5,12,15];\n",
    "tool = t.Toolsclass(lista);\n",
    "\n",
    "print(tool.operacion_factorial());"
   ]
  },
  {
   "cell_type": "code",
   "execution_count": 212,
   "metadata": {},
   "outputs": [],
   "source": [
    "class PruebaDeErroresFactorial (unittest.TestCase):\n",
    "    def test_factorial (self):\n",
    "        lista = [3,5,12,15];\n",
    "        tool = t.Toolsclass(lista);\n",
    "        resultado_factorial = tool.operacion_factorial();\n",
    "        result_ok = [6, 120, 479001600, 1307674368000];\n",
    "        self.assertEqual(resultado_factorial, result_ok);"
   ]
  },
  {
   "cell_type": "code",
   "execution_count": 282,
   "metadata": {},
   "outputs": [
    {
     "name": "stderr",
     "output_type": "stream",
     "text": [
      "test_crear_objeto_error (__main__.PruebaDeErrores.test_crear_objeto_error) ... ok\n",
      "test_crear_objeto_ok (__main__.PruebaDeErrores.test_crear_objeto_ok) ... ok\n",
      "test_moda (__main__.PruebaDeErrores.test_moda) ... ok\n",
      "test_conversion_celcius_to_fahrenheit (__main__.PruebaDeErroresConversion.test_conversion_celcius_to_fahrenheit) ... ok\n",
      "test_conversion_celcius_to_kelvin (__main__.PruebaDeErroresConversion.test_conversion_celcius_to_kelvin) ... ok\n",
      "test_conversion_fahrenheit_to_celcius (__main__.PruebaDeErroresConversion.test_conversion_fahrenheit_to_celcius) ... ok\n",
      "test_conversion_fahrenheit_to_kelvin (__main__.PruebaDeErroresConversion.test_conversion_fahrenheit_to_kelvin) ... ok\n",
      "test_conversion_kelvin_to_celcius (__main__.PruebaDeErroresConversion.test_conversion_kelvin_to_celcius) ... ok\n",
      "test_conversion_kelvin_to_fahrenheit (__main__.PruebaDeErroresConversion.test_conversion_kelvin_to_fahrenheit) ... ok\n",
      "test_factorial (__main__.PruebaDeErroresFactorial.test_factorial) ... ok\n",
      "test_verificar_num_primos (__main__.PruebaDeErroresNumerosPrimos.test_verificar_num_primos) ... ok\n",
      "\n",
      "----------------------------------------------------------------------\n",
      "Ran 11 tests in 0.058s\n",
      "\n",
      "OK\n"
     ]
    }
   ],
   "source": [
    "unittest.main(argv=[''], verbosity=2, exit=False);"
   ]
  },
  {
   "cell_type": "markdown",
   "metadata": {},
   "source": [
    "Extra\n"
   ]
  },
  {
   "cell_type": "code",
   "execution_count": 281,
   "metadata": {},
   "outputs": [
    {
     "ename": "ValueError",
     "evalue": "La lista contiene números negativos, se ha creado una lista vacia.",
     "output_type": "error",
     "traceback": [
      "\u001b[1;31m---------------------------------------------------------------------------\u001b[0m",
      "\u001b[1;31mValueError\u001b[0m                                Traceback (most recent call last)",
      "Cell \u001b[1;32mIn[281], line 6\u001b[0m\n\u001b[0;32m      4\u001b[0m lista \u001b[38;5;241m=\u001b[39m [\u001b[38;5;241m3\u001b[39m,\u001b[38;5;241m-\u001b[39m\u001b[38;5;241m4\u001b[39m];\n\u001b[0;32m      5\u001b[0m tool \u001b[38;5;241m=\u001b[39m t\u001b[38;5;241m.\u001b[39mToolsclass(lista);\n\u001b[1;32m----> 6\u001b[0m resultado \u001b[38;5;241m=\u001b[39m \u001b[43mtool\u001b[49m\u001b[38;5;241;43m.\u001b[39;49m\u001b[43moperacion_factorial\u001b[49m\u001b[43m(\u001b[49m\u001b[43m)\u001b[49m;\n\u001b[0;32m      8\u001b[0m \u001b[38;5;66;03m# print(resultado);\u001b[39;00m\n",
      "File \u001b[1;32mc:\\Users\\ingdi\\SoyHenry\\SH-DS\\Python-Prep\\M09_errorhandling\\toolbox.py:124\u001b[0m, in \u001b[0;36mToolsclass.operacion_factorial\u001b[1;34m(self)\u001b[0m\n\u001b[0;32m    121\u001b[0m         \u001b[38;5;66;03m# print (f\"El factorial de {numero} es {resultado}\");\u001b[39;00m\n\u001b[0;32m    122\u001b[0m     \u001b[38;5;28;01melse\u001b[39;00m:\n\u001b[0;32m    123\u001b[0m         resultado \u001b[38;5;241m=\u001b[39m [];\n\u001b[1;32m--> 124\u001b[0m         \u001b[38;5;28;01mraise\u001b[39;00m \u001b[38;5;167;01mValueError\u001b[39;00m (\u001b[38;5;124m\"\u001b[39m\u001b[38;5;124mLa lista contiene números negativos, se ha creado una lista vacia.\u001b[39m\u001b[38;5;124m\"\u001b[39m);\n\u001b[0;32m    126\u001b[0m \u001b[38;5;28;01mreturn\u001b[39;00m resultado\n",
      "\u001b[1;31mValueError\u001b[0m: La lista contiene números negativos, se ha creado una lista vacia."
     ]
    }
   ],
   "source": [
    "importlib\n",
    "importlib.reload(t);\n",
    "\n",
    "lista = [3,-4];\n",
    "tool = t.Toolsclass(lista);\n",
    "resultado = tool.operacion_factorial();\n",
    "\n",
    "# print(resultado);"
   ]
  }
 ],
 "metadata": {
  "interpreter": {
   "hash": "c85384e4cb51c8b72350f3a8712cc8351fdc3955e32a27f9b60c6242ab125f01"
  },
  "kernelspec": {
   "display_name": "Python 3 (ipykernel)",
   "language": "python",
   "name": "python3"
  },
  "language_info": {
   "codemirror_mode": {
    "name": "ipython",
    "version": 3
   },
   "file_extension": ".py",
   "mimetype": "text/x-python",
   "name": "python",
   "nbconvert_exporter": "python",
   "pygments_lexer": "ipython3",
   "version": "3.12.0"
  }
 },
 "nbformat": 4,
 "nbformat_minor": 4
}
