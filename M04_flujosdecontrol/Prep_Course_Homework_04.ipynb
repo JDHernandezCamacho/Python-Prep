{
 "cells": [
  {
   "attachments": {},
   "cell_type": "markdown",
   "metadata": {},
   "source": [
    "## Flujos de Control"
   ]
  },
  {
   "attachments": {},
   "cell_type": "markdown",
   "metadata": {},
   "source": [
    "1) Crear una variable que contenga un elemento del conjunto de números enteros y luego imprimir por pantalla si es mayor o menor a cero"
   ]
  },
  {
   "cell_type": "code",
   "execution_count": 10,
   "metadata": {},
   "outputs": [
    {
     "name": "stdout",
     "output_type": "stream",
     "text": [
      "El número -70 es menor que cero.\n"
     ]
    }
   ],
   "source": [
    "number = -70;\n",
    "\n",
    "if number > 0:\n",
    "    print (f\"El número {number} es mayor que cero.\");\n",
    "elif number < 0:\n",
    "    print (f\"El número {number} es menor que cero.\");\n",
    "else:\n",
    "    print (\"El número es cero.\");"
   ]
  },
  {
   "attachments": {},
   "cell_type": "markdown",
   "metadata": {},
   "source": [
    "2) Crear dos variables y un condicional que informe si son del mismo tipo de dato"
   ]
  },
  {
   "cell_type": "code",
   "execution_count": 20,
   "metadata": {},
   "outputs": [
    {
     "name": "stdout",
     "output_type": "stream",
     "text": [
      "Las variables son del mismo tipo de dato.\n"
     ]
    }
   ],
   "source": [
    "primer_variable = \"Soy tipo String\";\n",
    "segunda_variable = \"30\";\n",
    "\n",
    "if type(primer_variable) == type(segunda_variable):\n",
    "    print (\"Las variables son del mismo tipo de dato.\");\n",
    "else:\n",
    "    print (\"Las variables son de diferentes tipo de datos.\");"
   ]
  },
  {
   "attachments": {},
   "cell_type": "markdown",
   "metadata": {},
   "source": [
    "3) Para los valores enteros del 1 al 20, imprimir por pantalla si es par o impar"
   ]
  },
  {
   "cell_type": "code",
   "execution_count": 140,
   "metadata": {},
   "outputs": [
    {
     "name": "stdout",
     "output_type": "stream",
     "text": [
      "El número 0 no esta en el rango entre 1 y 20\n",
      "El número 1 es impar\n",
      "El número 2 es par\n",
      "El número 3 es impar\n",
      "El número 4 es par\n",
      "El número 5 es impar\n",
      "El número 6 es par\n",
      "El número 7 es impar\n",
      "El número 8 es par\n",
      "El número 9 es impar\n",
      "El número 10 es par\n",
      "El número 11 es impar\n",
      "El número 12 es par\n",
      "El número 13 es impar\n",
      "El número 14 es par\n",
      "El número 15 es impar\n",
      "El número 16 es par\n",
      "El número 17 es impar\n",
      "El número 18 es par\n",
      "El número 19 es impar\n",
      "El número 20 es par\n"
     ]
    }
   ],
   "source": [
    "for numero in range (0, 21):\n",
    "    residuo = numero % 2;\n",
    "    if numero > 0 and numero <= 20 and residuo == 0:\n",
    "        print (f\"El número {numero} es par\");\n",
    "    elif numero > 0 and numero <= 20 and residuo != 0:\n",
    "        print (f\"El número {numero} es impar\");\n",
    "    else:\n",
    "        print (f\"El número {numero} no esta en el rango entre 1 y 20\");\n"
   ]
  },
  {
   "attachments": {},
   "cell_type": "markdown",
   "metadata": {},
   "source": [
    "4) En un ciclo for mostrar para los valores entre 0 y 5 el resultado de elevarlo a la potencia igual a 3"
   ]
  },
  {
   "cell_type": "code",
   "execution_count": 136,
   "metadata": {},
   "outputs": [
    {
     "name": "stdout",
     "output_type": "stream",
     "text": [
      "El número 0 al elevarlo al cubo resulta 0\n",
      "El número 1 al elevarlo al cubo resulta 1\n",
      "El número 2 al elevarlo al cubo resulta 8\n",
      "El número 3 al elevarlo al cubo resulta 27\n",
      "El número 4 al elevarlo al cubo resulta 64\n",
      "El número 5 al elevarlo al cubo resulta 125\n"
     ]
    }
   ],
   "source": [
    "i = 0;\n",
    "for i in range (0, 6):\n",
    "    potencia = i**3;\n",
    "    print (f\"El número {i} al elevarlo al cubo resulta {potencia}\");"
   ]
  },
  {
   "attachments": {},
   "cell_type": "markdown",
   "metadata": {},
   "source": [
    "5) Crear una variable que contenga un número entero y realizar un ciclo for la misma cantidad de ciclos"
   ]
  },
  {
   "cell_type": "code",
   "execution_count": 51,
   "metadata": {},
   "outputs": [
    {
     "name": "stdout",
     "output_type": "stream",
     "text": [
      "Numero de ciclo ejecutado: 0\n",
      "Numero de ciclo ejecutado: 1\n",
      "Numero de ciclo ejecutado: 2\n",
      "Numero de ciclo ejecutado: 3\n",
      "Numero de ciclo ejecutado: 4\n",
      "Numero de ciclo ejecutado: 5\n",
      "Numero de ciclo ejecutado: 6\n",
      "Numero de ciclo ejecutado: 7\n",
      "Numero de ciclo ejecutado: 8\n",
      "Numero de ciclo ejecutado: 9\n"
     ]
    }
   ],
   "source": [
    "num = 10;\n",
    "j = 0;\n",
    "\n",
    "for j in range (j, num):\n",
    "    print (f'Numero de ciclo ejecutado: {j}');"
   ]
  },
  {
   "attachments": {},
   "cell_type": "markdown",
   "metadata": {},
   "source": [
    "6) Utilizar un ciclo while para realizar el factorial de un número guardado en una variable, sólo si la variable contiene un número entero mayor a 0"
   ]
  },
  {
   "cell_type": "code",
   "execution_count": 143,
   "metadata": {},
   "outputs": [
    {
     "name": "stdout",
     "output_type": "stream",
     "text": [
      "El factorial de 10 es 3628800\n"
     ]
    }
   ],
   "source": [
    "valor = 10;\n",
    "contador = 0;\n",
    "factorial = 1;\n",
    "\n",
    "if type(valor) == int:\n",
    "    if valor > 0:\n",
    "        while  (contador < valor):\n",
    "            contador = contador + 1;\n",
    "            factorial = contador * factorial;\n",
    "        print (f\"El factorial de {valor} es {factorial}\");\n",
    "    else: \n",
    "        print (f\"Su valor {valor} debe ser mayor a cero.\");\n",
    "else:\n",
    "    print (f\"El valor {valor} no es un número.\");"
   ]
  },
  {
   "attachments": {},
   "cell_type": "markdown",
   "metadata": {},
   "source": [
    "7) Crear un ciclo for dentro de un ciclo while"
   ]
  },
  {
   "cell_type": "code",
   "execution_count": 76,
   "metadata": {},
   "outputs": [
    {
     "name": "stdout",
     "output_type": "stream",
     "text": [
      "Tabla del 1\n",
      "1 * 0 = 0\n",
      "1 * 1 = 1\n",
      "1 * 2 = 2\n",
      "1 * 3 = 3\n",
      "1 * 4 = 4\n",
      "1 * 5 = 5\n",
      "1 * 6 = 6\n",
      "1 * 7 = 7\n",
      "1 * 8 = 8\n",
      "1 * 9 = 9\n",
      "1 * 10 = 10\n",
      "Tabla del 2\n",
      "2 * 0 = 0\n",
      "2 * 1 = 2\n",
      "2 * 2 = 4\n",
      "2 * 3 = 6\n",
      "2 * 4 = 8\n",
      "2 * 5 = 10\n",
      "2 * 6 = 12\n",
      "2 * 7 = 14\n",
      "2 * 8 = 16\n",
      "2 * 9 = 18\n",
      "2 * 10 = 20\n",
      "Tabla del 3\n",
      "3 * 0 = 0\n",
      "3 * 1 = 3\n",
      "3 * 2 = 6\n",
      "3 * 3 = 9\n",
      "3 * 4 = 12\n",
      "3 * 5 = 15\n",
      "3 * 6 = 18\n",
      "3 * 7 = 21\n",
      "3 * 8 = 24\n",
      "3 * 9 = 27\n",
      "3 * 10 = 30\n",
      "Tabla del 4\n",
      "4 * 0 = 0\n",
      "4 * 1 = 4\n",
      "4 * 2 = 8\n",
      "4 * 3 = 12\n",
      "4 * 4 = 16\n",
      "4 * 5 = 20\n",
      "4 * 6 = 24\n",
      "4 * 7 = 28\n",
      "4 * 8 = 32\n",
      "4 * 9 = 36\n",
      "4 * 10 = 40\n",
      "Tabla del 5\n",
      "5 * 0 = 0\n",
      "5 * 1 = 5\n",
      "5 * 2 = 10\n",
      "5 * 3 = 15\n",
      "5 * 4 = 20\n",
      "5 * 5 = 25\n",
      "5 * 6 = 30\n",
      "5 * 7 = 35\n",
      "5 * 8 = 40\n",
      "5 * 9 = 45\n",
      "5 * 10 = 50\n",
      "Tabla del 6\n",
      "6 * 0 = 0\n",
      "6 * 1 = 6\n",
      "6 * 2 = 12\n",
      "6 * 3 = 18\n",
      "6 * 4 = 24\n",
      "6 * 5 = 30\n",
      "6 * 6 = 36\n",
      "6 * 7 = 42\n",
      "6 * 8 = 48\n",
      "6 * 9 = 54\n",
      "6 * 10 = 60\n",
      "Tabla del 7\n",
      "7 * 0 = 0\n",
      "7 * 1 = 7\n",
      "7 * 2 = 14\n",
      "7 * 3 = 21\n",
      "7 * 4 = 28\n",
      "7 * 5 = 35\n",
      "7 * 6 = 42\n",
      "7 * 7 = 49\n",
      "7 * 8 = 56\n",
      "7 * 9 = 63\n",
      "7 * 10 = 70\n",
      "Tabla del 8\n",
      "8 * 0 = 0\n",
      "8 * 1 = 8\n",
      "8 * 2 = 16\n",
      "8 * 3 = 24\n",
      "8 * 4 = 32\n",
      "8 * 5 = 40\n",
      "8 * 6 = 48\n",
      "8 * 7 = 56\n",
      "8 * 8 = 64\n",
      "8 * 9 = 72\n",
      "8 * 10 = 80\n",
      "Tabla del 9\n",
      "9 * 0 = 0\n",
      "9 * 1 = 9\n",
      "9 * 2 = 18\n",
      "9 * 3 = 27\n",
      "9 * 4 = 36\n",
      "9 * 5 = 45\n",
      "9 * 6 = 54\n",
      "9 * 7 = 63\n",
      "9 * 8 = 72\n",
      "9 * 9 = 81\n",
      "9 * 10 = 90\n",
      "Tabla del 10\n",
      "10 * 0 = 0\n",
      "10 * 1 = 10\n",
      "10 * 2 = 20\n",
      "10 * 3 = 30\n",
      "10 * 4 = 40\n",
      "10 * 5 = 50\n",
      "10 * 6 = 60\n",
      "10 * 7 = 70\n",
      "10 * 8 = 80\n",
      "10 * 9 = 90\n",
      "10 * 10 = 100\n"
     ]
    }
   ],
   "source": [
    "counter = 0;\n",
    "index = 0;\n",
    "producto = 0;\n",
    "\n",
    "while counter < 10:\n",
    "    counter = counter + 1;\n",
    "    print (f\"Tabla del {counter}\");\n",
    "    for index in range (0, 11):\n",
    "        producto = counter * index;\n",
    "        print(f\"{counter} * {index} = {producto}\");"
   ]
  },
  {
   "attachments": {},
   "cell_type": "markdown",
   "metadata": {},
   "source": [
    "8) Crear un ciclo while dentro de un ciclo for"
   ]
  },
  {
   "cell_type": "code",
   "execution_count": 160,
   "metadata": {},
   "outputs": [
    {
     "name": "stdout",
     "output_type": "stream",
     "text": [
      "El ciclo for se ha ejecutado 1 vez.\n",
      "   El ciclo while dentro del ciclo for 1 se ha ejecutado 1 vez.\n",
      "   El ciclo while dentro del ciclo for 1 se ha ejecutado  2 veces.\n",
      "   El ciclo while dentro del ciclo for 1 se ha ejecutado  3 veces.\n",
      "El ciclo for se ha ejecutado 2 veces.\n",
      "   El ciclo while dentro del ciclo for 2 se ha ejecutado 1 vez.\n",
      "   El ciclo while dentro del ciclo for 2 se ha ejecutado  2 veces.\n",
      "   El ciclo while dentro del ciclo for 2 se ha ejecutado  3 veces.\n",
      "El ciclo for se ha ejecutado 3 veces.\n",
      "   El ciclo while dentro del ciclo for 3 se ha ejecutado 1 vez.\n",
      "   El ciclo while dentro del ciclo for 3 se ha ejecutado  2 veces.\n",
      "   El ciclo while dentro del ciclo for 3 se ha ejecutado  3 veces.\n",
      "El ciclo for se ha ejecutado 4 veces.\n",
      "   El ciclo while dentro del ciclo for 4 se ha ejecutado 1 vez.\n",
      "   El ciclo while dentro del ciclo for 4 se ha ejecutado  2 veces.\n",
      "   El ciclo while dentro del ciclo for 4 se ha ejecutado  3 veces.\n",
      "El ciclo for se ha ejecutado 5 veces.\n",
      "   El ciclo while dentro del ciclo for 5 se ha ejecutado 1 vez.\n",
      "   El ciclo while dentro del ciclo for 5 se ha ejecutado  2 veces.\n",
      "   El ciclo while dentro del ciclo for 5 se ha ejecutado  3 veces.\n"
     ]
    }
   ],
   "source": [
    "indice = 1;\n",
    "count = 0;\n",
    "\n",
    "for indice in range (1, 6):\n",
    "    if (indice == 1):\n",
    "        print (f\"El ciclo for se ha ejecutado {indice} vez.\");\n",
    "    else:\n",
    "        print (f\"El ciclo for se ha ejecutado {indice} veces.\");\n",
    "    while count < 3:\n",
    "        count = count + 1;\n",
    "        if (count == 1):\n",
    "            print (f\"   El ciclo while dentro del ciclo for {indice} se ha ejecutado {count} vez.\");\n",
    "        else:\n",
    "            print (f\"   El ciclo while dentro del ciclo for {indice} se ha ejecutado  {count} veces.\");\n",
    "    count = 0;"
   ]
  },
  {
   "attachments": {},
   "cell_type": "markdown",
   "metadata": {},
   "source": [
    "9) Imprimir los números primos existentes entre 0 y 30"
   ]
  },
  {
   "cell_type": "code",
   "execution_count": 174,
   "metadata": {},
   "outputs": [
    {
     "name": "stdout",
     "output_type": "stream",
     "text": [
      "Números primos entre 0 y 30\n",
      "2\n",
      "3\n",
      "5\n",
      "7\n",
      "11\n",
      "13\n",
      "17\n",
      "19\n",
      "23\n",
      "29\n"
     ]
    }
   ],
   "source": [
    "limite = 30;\n",
    "print (f\"Números primos entre 0 y {limite}\");\n",
    "es_primo = True;\n",
    "\n",
    "k = 0;\n",
    "for k in range (0, limite + 1):\n",
    "    if k >= 2:\n",
    "        for divisor in range (2, k):\n",
    "            if (k % divisor == 0):\n",
    "                es_primo = False;\n",
    "        if (es_primo):\n",
    "            print (k);\n",
    "        else:\n",
    "            es_primo = True;\n",
    "        "
   ]
  },
  {
   "attachments": {},
   "cell_type": "markdown",
   "metadata": {},
   "source": [
    "10) ¿Se puede mejorar el proceso del punto 9? Utilizar las sentencias break y/ó continue para tal fin"
   ]
  },
  {
   "cell_type": "code",
   "execution_count": 173,
   "metadata": {},
   "outputs": [
    {
     "name": "stdout",
     "output_type": "stream",
     "text": [
      "Números primos entre 0 y 30\n",
      "2\n",
      "3\n",
      "5\n",
      "7\n",
      "11\n",
      "13\n",
      "17\n",
      "19\n",
      "23\n",
      "29\n"
     ]
    }
   ],
   "source": [
    "limite = 30;\n",
    "print (f\"Números primos entre 0 y {limite}\");\n",
    "es_primo = True;\n",
    "\n",
    "k = 0;\n",
    "for k in range (0, limite + 1):\n",
    "    if k >= 2:\n",
    "        for divisor in range (2, k):\n",
    "            if (k % divisor == 0):\n",
    "                es_primo = False;\n",
    "                break;\n",
    "        if (es_primo):\n",
    "            print (k);\n",
    "        else:\n",
    "            es_primo = True;"
   ]
  },
  {
   "attachments": {},
   "cell_type": "markdown",
   "metadata": {},
   "source": [
    "11) En los puntos 9 y 10, se diseño un código que encuentra números primos y además se lo optimizó. ¿Es posible saber en qué medida se optimizó?"
   ]
  },
  {
   "cell_type": "code",
   "execution_count": 180,
   "metadata": {},
   "outputs": [
    {
     "name": "stdout",
     "output_type": "stream",
     "text": [
      "Números primos entre 0 y 30\n",
      "2\n",
      "3\n",
      "5\n",
      "7\n",
      "11\n",
      "13\n",
      "17\n",
      "19\n",
      "23\n",
      "29\n",
      "Números primos entre 0 y 30\n",
      "2\n",
      "3\n",
      "5\n",
      "7\n",
      "11\n",
      "13\n",
      "17\n",
      "19\n",
      "23\n",
      "29\n",
      "Ciclos no ejecutados 135, de un total de 406\n",
      "El código quedó optimizado un 33.25% \n"
     ]
    }
   ],
   "source": [
    "## Código de números primos sin optimizar ##\n",
    "limite = 30;\n",
    "print (f\"Números primos entre 0 y {limite}\");\n",
    "es_primo = True;\n",
    "total_de_ciclos = 0;\n",
    "\n",
    "k = 0;\n",
    "for k in range (0, limite + 1):\n",
    "    if k >= 2:\n",
    "        for divisor in range (2, k):\n",
    "            total_de_ciclos += 1;\n",
    "            if (k % divisor == 0):\n",
    "                es_primo = False;\n",
    "        if (es_primo):\n",
    "            print (k);\n",
    "        else:\n",
    "            es_primo = True;\n",
    "\n",
    "\n",
    "## Código de números primos optimizado ##\n",
    "print (f\"Números primos entre 0 y {limite}\");\n",
    "es_primo = True;\n",
    "ciclos_sin_ejecutar = 0;\n",
    "\n",
    "k = 0;\n",
    "for k in range (0, limite + 1):\n",
    "    if k >= 2:\n",
    "        for divisor in range (2, k):\n",
    "            ciclos_sin_ejecutar += 1;\n",
    "            if (k % divisor == 0):\n",
    "                es_primo = False;\n",
    "                break;\n",
    "        if (es_primo):\n",
    "            print (k);\n",
    "        else:\n",
    "            es_primo = True;\n",
    "\n",
    "optimizacion = ciclos_sin_ejecutar * 100/total_de_ciclos;\n",
    "\n",
    "print (f\"Ciclos no ejecutados {ciclos_sin_ejecutar}, de un total de {total_de_ciclos}\");\n",
    "print (f\"El código quedó optimizado un {round(optimizacion , 2)}% \");\n"
   ]
  },
  {
   "attachments": {},
   "cell_type": "markdown",
   "metadata": {},
   "source": [
    "12) Aplicando continue, armar un ciclo while que solo imprima los valores divisibles por 12, dentro del rango de números de 100 a 300"
   ]
  },
  {
   "cell_type": "code",
   "execution_count": 19,
   "metadata": {},
   "outputs": [
    {
     "name": "stdout",
     "output_type": "stream",
     "text": [
      "El número 108 es divisible entre 12\n",
      "El número 120 es divisible entre 12\n",
      "El número 132 es divisible entre 12\n",
      "El número 144 es divisible entre 12\n",
      "El número 156 es divisible entre 12\n",
      "El número 168 es divisible entre 12\n",
      "El número 180 es divisible entre 12\n",
      "El número 192 es divisible entre 12\n",
      "El número 204 es divisible entre 12\n",
      "El número 216 es divisible entre 12\n",
      "El número 228 es divisible entre 12\n",
      "El número 240 es divisible entre 12\n",
      "El número 252 es divisible entre 12\n",
      "El número 264 es divisible entre 12\n",
      "El número 276 es divisible entre 12\n",
      "El número 288 es divisible entre 12\n",
      "El número 300 es divisible entre 12\n"
     ]
    }
   ],
   "source": [
    "limite_inferior = 100;\n",
    "limite_superior = 300;\n",
    "\n",
    "while (limite_inferior - 1 <= limite_superior):\n",
    "    limite_inferior += 1;\n",
    "    if (limite_inferior % 12 != 0):\n",
    "        continue;\n",
    "    else:\n",
    "        print (f\"El número {limite_inferior} es divisible entre 12\");\n",
    "    "
   ]
  },
  {
   "attachments": {},
   "cell_type": "markdown",
   "metadata": {},
   "source": [
    "13) Utilizar la función **input()** que permite hacer ingresos por teclado, para encontrar números primos y dar la opción al usario de buscar el siguiente"
   ]
  },
  {
   "cell_type": "code",
   "execution_count": 15,
   "metadata": {},
   "outputs": [
    {
     "name": "stdout",
     "output_type": "stream",
     "text": [
      "Buscador de números primos consecutivos según el usuario.\n",
      "2\n",
      "3\n",
      "5\n",
      "7\n",
      "11\n",
      "13\n",
      "17\n",
      "19\n",
      "23\n",
      "29\n",
      "31\n",
      "37\n",
      "41\n",
      "Se finalizó la búsqueda.\n"
     ]
    }
   ],
   "source": [
    "print (f\"Buscador de números primos consecutivos según el usuario.\");\n",
    "es_primo = True;\n",
    "\n",
    "ejecutar = input (\"Desea buscar el primer número primo. y/n\");\n",
    "if (ejecutar == \"y\" or ejecutar == \"Y\"):\n",
    "    k = 1;\n",
    "    num_a_verificar = 2;\n",
    "    while (k == 1):\n",
    "        for divisor in range (2, num_a_verificar):\n",
    "            if (num_a_verificar % divisor == 0):\n",
    "                es_primo = False;\n",
    "                break;\n",
    "        if (es_primo):\n",
    "            print (num_a_verificar);\n",
    "            user_response = input (\"Desea continuar con la búsqueda del siguiente número primo y/n.\");\n",
    "            if (user_response == \"y\" or user_response ==\"Y\"):\n",
    "                num_a_verificar += 1;\n",
    "                k == 1;\n",
    "            else:\n",
    "                k == 0;\n",
    "                break;\n",
    "        else:\n",
    "            es_primo = True;\n",
    "            num_a_verificar += 1;\n",
    "\n",
    "print (\"Se finalizó la búsqueda.\");"
   ]
  },
  {
   "attachments": {},
   "cell_type": "markdown",
   "metadata": {},
   "source": [
    "14) Crear un ciclo while que encuentre dentro del rango de 100 a 300 el primer número divisible por 3 y además múltiplo de 6"
   ]
  },
  {
   "cell_type": "code",
   "execution_count": 21,
   "metadata": {},
   "outputs": [
    {
     "name": "stdout",
     "output_type": "stream",
     "text": [
      "El número 102 es divisible entre 3 y múltiplo de 6\n"
     ]
    }
   ],
   "source": [
    "limite_menor = 100;\n",
    "limite_mayor = 300;\n",
    "\n",
    "while limite_menor <= limite_mayor:\n",
    "    if (limite_menor % 3 == 0 and limite_menor % 6 == 0):\n",
    "        print (f\"El número {limite_menor} es divisible entre 3 y múltiplo de 6\");\n",
    "        break;\n",
    "    limite_menor += 1;\n"
   ]
  }
 ],
 "metadata": {
  "interpreter": {
   "hash": "c85384e4cb51c8b72350f3a8712cc8351fdc3955e32a27f9b60c6242ab125f01"
  },
  "kernelspec": {
   "display_name": "Python 3 (ipykernel)",
   "language": "python",
   "name": "python3"
  },
  "language_info": {
   "codemirror_mode": {
    "name": "ipython",
    "version": 3
   },
   "file_extension": ".py",
   "mimetype": "text/x-python",
   "name": "python",
   "nbconvert_exporter": "python",
   "pygments_lexer": "ipython3",
   "version": "3.12.0"
  }
 },
 "nbformat": 4,
 "nbformat_minor": 4
}
