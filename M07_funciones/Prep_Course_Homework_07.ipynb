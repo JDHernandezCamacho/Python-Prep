{
 "cells": [
  {
   "attachments": {},
   "cell_type": "markdown",
   "metadata": {},
   "source": [
    "## Funciones"
   ]
  },
  {
   "attachments": {},
   "cell_type": "markdown",
   "metadata": {},
   "source": [
    "1) Crear una función que reciba un número como parámetro y devuelva True si es primo y False si no lo es"
   ]
  },
  {
   "cell_type": "code",
   "execution_count": 183,
   "metadata": {},
   "outputs": [
    {
     "name": "stdout",
     "output_type": "stream",
     "text": [
      "False\n"
     ]
    }
   ],
   "source": [
    "def es_numero_primo (numero, es_primo = True):\n",
    "    if numero >= 2:\n",
    "        for divisor in range (2, numero):\n",
    "            if (numero % divisor == 0):\n",
    "                es_primo = False;\n",
    "                return es_primo;\n",
    "        if (es_primo):\n",
    "            return es_primo;\n",
    "        else:\n",
    "            es_primo = True;\n",
    "            return es_primo;\n",
    "    return False;\n",
    "\n",
    "print(es_numero_primo(22));"
   ]
  },
  {
   "attachments": {},
   "cell_type": "markdown",
   "metadata": {},
   "source": [
    "2) Utilizando la función del punto 1, realizar otra función que reciba de parámetro una lista de números y devuelva sólo aquellos que son primos en otra lista"
   ]
  },
  {
   "cell_type": "code",
   "execution_count": 184,
   "metadata": {},
   "outputs": [
    {
     "name": "stdout",
     "output_type": "stream",
     "text": [
      "Lista identificada: [1, 2, 3, 4, 5, 6, 7, 8, 9, 10, 11, 12, 13, 14, 15, 16, 17]\n",
      "Numeros primos en la lista: [2, 3, 5, 7, 11, 13, 17]\n"
     ]
    }
   ],
   "source": [
    "lista_de_primos = [];\n",
    "def comprobar_primos (lista, es_primo = True):\n",
    "    print(f\"Lista identificada: {lista}\");\n",
    "    for numero in lista:\n",
    "        es_primo = es_numero_primo(numero);\n",
    "        if (es_primo):\n",
    "            lista_de_primos.append(numero);\n",
    "    return lista_de_primos;\n",
    "\n",
    "lista_de_numeros = [1,2,3,4,5,6,7,8,9,10,11,12,13,14,15,16,17];\n",
    "lista_creada = comprobar_primos(lista_de_numeros);\n",
    "print (f\"Numeros primos en la lista: {lista_creada}\");"
   ]
  },
  {
   "attachments": {},
   "cell_type": "markdown",
   "metadata": {},
   "source": [
    "3) Crear una función que al recibir una lista de números, devuelva el que más se repite y cuántas veces lo hace. Si hay más de un \"más repetido\", que devuelva cualquiera"
   ]
  },
  {
   "cell_type": "code",
   "execution_count": 185,
   "metadata": {},
   "outputs": [
    {
     "name": "stdout",
     "output_type": "stream",
     "text": [
      "La moda es el número 2 con una frecuencia de 7 veces.\n"
     ]
    }
   ],
   "source": [
    "def moda (lista_recibida):\n",
    "    numeros_repetidos = [];\n",
    "    for i in range(len(lista_recibida)):\n",
    "        for j in range(len(lista_recibida)):\n",
    "            if i != j:\n",
    "                if lista_recibida[i] == lista_recibida[j] and lista_recibida[i] not in numeros_repetidos:\n",
    "                    numeros_repetidos.append(lista_recibida[i]);\n",
    "    \n",
    "    lista_conteo = [];\n",
    "    for i in range(len(numeros_repetidos)):\n",
    "        contador = 0;\n",
    "        for j in range(len(lista_recibida)):\n",
    "            if numeros_repetidos[i] == lista_recibida[j]:\n",
    "                contador += 1;\n",
    "            lista = [numeros_repetidos[i], contador];\n",
    "        lista_conteo.append(lista);\n",
    "        \n",
    "    mayor = 0;\n",
    "    lista_moda = [];\n",
    "    for i in range(len(lista_conteo)):\n",
    "        for j in range(len(lista_conteo[i])):\n",
    "            if lista_conteo[i][1] > mayor:\n",
    "                mayor = lista_conteo[i][1];\n",
    "                lista_moda = lista_conteo[i];\n",
    "\n",
    "    return (f\"La moda es el número {lista_moda[0]} con una frecuencia de {lista_moda[1]} veces.\");\n",
    "                    \n",
    "\n",
    "lista = [1,2,2,2,2,2,2,2,3,1,1,1,4,5,5,5,6,7,5,7,6,8,9,8,7,8,5,6,8];\n",
    "moda = moda(lista);\n",
    "print(moda);"
   ]
  },
  {
   "attachments": {},
   "cell_type": "markdown",
   "metadata": {},
   "source": [
    "4) Crear una función que convierta entre grados Celsius, Farenheit y Kelvin<br>\n",
    "Fórmula 1\t: (°C × 9/5) + 32 = °F<br>\n",
    "Fórmula 2\t: °C + 273.15 = °K<br>\n",
    "Debe recibir 3 parámetros: el valor, la medida de orígen y la medida de destino\n"
   ]
  },
  {
   "cell_type": "code",
   "execution_count": 186,
   "metadata": {},
   "outputs": [
    {
     "name": "stdout",
     "output_type": "stream",
     "text": [
      "300°K equivalen a 26.850000000000023°C.\n"
     ]
    }
   ],
   "source": [
    "def conversion_temperatura (valor, unidad_medida, medida_a_convertir):\n",
    "    if unidad_medida == \"Celcius\" and medida_a_convertir == \"Fahrenheit\":\n",
    "        fahrenheit = (valor * 9/5) + 32;\n",
    "        return (f\"{valor}°C equivalen a {fahrenheit}°F.\");\n",
    "    elif unidad_medida == \"Fahrenheit\" and medida_a_convertir == \"Celcius\":\n",
    "        celcius = (valor - 32) * 5/9;\n",
    "        return (f\"{valor}°F equivalen a {celcius}°C.\");\n",
    "    elif unidad_medida == \"Celcius\" and medida_a_convertir == \"Kelvin\":\n",
    "        kelvin = valor + 273.15;\n",
    "        return (f\"{valor}°C equivalen a {kelvin}°K.\");\n",
    "    elif unidad_medida == \"Fahrenheit\" and medida_a_convertir == \"Kelvin\":\n",
    "        celcius = (valor - 32) * 5/9;\n",
    "        kelvin = celcius + 273.15;\n",
    "        return (f\"{valor}°F equivalen a {kelvin}°K.\");\n",
    "    elif unidad_medida == \"Kelvin\" and medida_a_convertir == \"Celcius\":\n",
    "        celcius = valor - 273.15;\n",
    "        return (f\"{valor}°K equivalen a {celcius}°C.\");\n",
    "    elif unidad_medida == \"Kelvin\" and medida_a_convertir == \"Fahrenheit\":\n",
    "        celcius = valor - 273.15;\n",
    "        fahrenheit = (celcius * 9/5) + 32;\n",
    "        return (f\"{valor}°K equivalen a {fahrenheit}°F.\");\n",
    "    else:\n",
    "        return (f\"Favor de corroborar sus datos.\")\n",
    "\n",
    "\n",
    "conversion = conversion_temperatura(300, \"Kelvin\", \"Celcius\");\n",
    "print(conversion);\n",
    "\n"
   ]
  },
  {
   "attachments": {},
   "cell_type": "markdown",
   "metadata": {},
   "source": [
    "5) Iterando una lista con los tres valores posibles de temperatura que recibe la función del punto 5, hacer un print para cada combinación de los mismos:"
   ]
  },
  {
   "cell_type": "code",
   "execution_count": 134,
   "metadata": {},
   "outputs": [
    {
     "name": "stdout",
     "output_type": "stream",
     "text": [
      "0°C equivalen a 32.0°F.\n",
      "0°C equivalen a 273.15°K.\n",
      "0°F equivalen a -17.77777777777778°C.\n",
      "0°F equivalen a 255.3722222222222°K.\n",
      "0°K equivalen a -273.15°C.\n",
      "0°K equivalen a -459.66999999999996°F.\n"
     ]
    }
   ],
   "source": [
    "escalas_temperaturas = [\"Celcius\", \"Fahrenheit\", \"Kelvin\"];\n",
    "\n",
    "for i in range (len(escalas_temperaturas)):\n",
    "    for j in range (len(escalas_temperaturas)):\n",
    "        if escalas_temperaturas[i] != escalas_temperaturas[j]:\n",
    "            print (conversion_temperatura(0, escalas_temperaturas[i], escalas_temperaturas[j]));\n"
   ]
  },
  {
   "attachments": {},
   "cell_type": "markdown",
   "metadata": {},
   "source": [
    "6) Armar una función que devuelva el factorial de un número. Tener en cuenta que el usuario puede equivocarse y enviar de parámetro un número no entero o negativo"
   ]
  },
  {
   "cell_type": "code",
   "execution_count": 197,
   "metadata": {},
   "outputs": [
    {
     "name": "stdout",
     "output_type": "stream",
     "text": [
      "El número introducido -4 no es postivo.\n"
     ]
    }
   ],
   "source": [
    "## Calculando el factorial de un número\n",
    "def factorial (numero):\n",
    "    if (type(numero) != int):\n",
    "        return (f\"Lo sentimos {numero} no es un número entero.\")\n",
    "    else:\n",
    "        if (numero > 0):\n",
    "            i = 1;\n",
    "            while numero > 0:\n",
    "                i = numero * i;\n",
    "                factorial = numero * i;\n",
    "                numero -= 1;  \n",
    "            return (factorial)\n",
    "        elif (numero < 0):\n",
    "            return (f\"El número introducido {numero} no es postivo.\")\n",
    "        \n",
    "\n",
    "numero = -4;\n",
    "factorial_ = factorial(numero);\n",
    "print(factorial_);"
   ]
  },
  {
   "cell_type": "code",
   "execution_count": 202,
   "metadata": {},
   "outputs": [
    {
     "name": "stdout",
     "output_type": "stream",
     "text": [
      "6\n"
     ]
    }
   ],
   "source": [
    "## Calculando el factorial de un número aplicando la recursividad\n",
    "def factorial_recursiva (num):\n",
    "    if (type(num) == int):\n",
    "        if (num == 1):\n",
    "            return 1;\n",
    "        elif (num <= 0):\n",
    "            return (f\"El número introducido {num} no es positivo.\")\n",
    "        else:\n",
    "            return num * factorial_recursiva(num - 1);\n",
    "    else:\n",
    "        return (f\"El dato introducido no es un número entero.\");\n",
    "\n",
    "\n",
    "numero = 3;\n",
    "factorial_calculado = factorial_recursiva(numero);\n",
    "print (factorial_calculado);"
   ]
  }
 ],
 "metadata": {
  "interpreter": {
   "hash": "c85384e4cb51c8b72350f3a8712cc8351fdc3955e32a27f9b60c6242ab125f01"
  },
  "kernelspec": {
   "display_name": "Python 3 (ipykernel)",
   "language": "python",
   "name": "python3"
  },
  "language_info": {
   "codemirror_mode": {
    "name": "ipython",
    "version": 3
   },
   "file_extension": ".py",
   "mimetype": "text/x-python",
   "name": "python",
   "nbconvert_exporter": "python",
   "pygments_lexer": "ipython3",
   "version": "3.9.7"
  }
 },
 "nbformat": 4,
 "nbformat_minor": 4
}
