{
 "cells": [
  {
   "attachments": {},
   "cell_type": "markdown",
   "metadata": {},
   "source": [
    "## Clases y Programación Orientada a Objetos"
   ]
  },
  {
   "attachments": {},
   "cell_type": "markdown",
   "metadata": {},
   "source": [
    "1) Crear la clase vehículo que contenga los atributos:<br>\n",
    "Color<br>\n",
    "Si es moto, auto, camioneta ó camión<br>\n",
    "Cilindrada del motor"
   ]
  },
  {
   "cell_type": "code",
   "execution_count": 11,
   "metadata": {},
   "outputs": [],
   "source": [
    "class Vehiculo:\n",
    "    def __init__ (self, color, tipo, motor):\n",
    "        self.color = color;\n",
    "        self.tipo = tipo;\n",
    "        self.motor = motor;"
   ]
  },
  {
   "attachments": {},
   "cell_type": "markdown",
   "metadata": {},
   "source": [
    "2) A la clase Vehiculo creada en el punto 1, agregar los siguientes métodos:<br>\n",
    "Acelerar<br>\n",
    "Frenar<br>\n",
    "Doblar<br>"
   ]
  },
  {
   "cell_type": "code",
   "execution_count": 12,
   "metadata": {},
   "outputs": [],
   "source": [
    "class Vehiculo:\n",
    "    def __init__ (self, color, tipo, motor, matricula = \"0000000\"):\n",
    "        self.color = color;\n",
    "        self.tipo = tipo;\n",
    "        self.motor = motor;\n",
    "        self.velocidad = 0;\n",
    "        self.dirección = 0;\n",
    "        self.sentido = \"este\";\n",
    "        self.__matricula = matricula;\n",
    "\n",
    "    def capturar_matricula (self, matricula):\n",
    "        if (self.__matricula == \"0000000\"):\n",
    "            if (len(matricula) == 7 ):\n",
    "                self.__matricula = matricula;\n",
    "            else:\n",
    "                print(\"El campo de matrícula es incorrecto.\");\n",
    "        else:\n",
    "            print(\"El campo de matrícula contiene datos.\");\n",
    "\n",
    "    def frenar (self, velocidad):\n",
    "        self.velocidad -= velocidad;\n",
    "    \n",
    "    def acelerar (self, velocidad):\n",
    "        self.velocidad += velocidad;\n",
    "\n",
    "    def doblar (self, direccion, sentido):\n",
    "        self.dirección = direccion;\n",
    "        self.sentido = sentido;"
   ]
  },
  {
   "attachments": {},
   "cell_type": "markdown",
   "metadata": {},
   "source": [
    "3) Instanciar 3 objetos de la clase vehículo y ejecutar sus métodos, probar luego el resultado"
   ]
  },
  {
   "cell_type": "code",
   "execution_count": 20,
   "metadata": {},
   "outputs": [],
   "source": [
    "nissan_sentra = Vehiculo(\"Plata\", \"Sedán\", \"1.8 con 4 cil\");\n",
    "vw_jetta = Vehiculo(\"Negro\", \"Sedán\", \"2.5 con 4 cil\");\n",
    "moto_yamaha = Vehiculo(\"Amarillo/Negro\", \"Moto Carreras\", \"450cc\");\n",
    "vw_vocho = Vehiculo(\"Blanco\", \"Sedán\", \"1.6 con 4 cil\");\n",
    "seat_ibiza = Vehiculo(\"Azúl eléctrico\", \"HatchBack\", \"1.2TB 4 cil\");\n",
    "\n",
    "nissan_sentra.capturar_matricula(\"AXY456H\");\n",
    "vw_jetta.capturar_matricula(\"TGX789P\");\n",
    "moto_yamaha.capturar_matricula(\"MPS890S\");\n",
    "vw_vocho.capturar_matricula(\"HKJ656X\");\n",
    "seat_ibiza.capturar_matricula(\"RUY787U\");\n",
    "\n",
    "nissan_sentra.acelerar(100);\n",
    "nissan_sentra.doblar(30, \"sureste\");\n",
    "nissan_sentra.frenar(20);\n",
    "nissan_sentra.acelerar(40);\n",
    "\n",
    "vw_jetta.acelerar(150);\n",
    "vw_jetta.doblar(45, \"noreste\");\n",
    "\n",
    "moto_yamaha.acelerar(0);\n",
    "moto_yamaha.doblar(0, \"norte\");\n",
    "\n",
    "vw_vocho.acelerar(65);\n",
    "vw_vocho.doblar(70, \"suroeste\");\n",
    "\n",
    "seat_ibiza.acelerar(230);\n",
    "seat_ibiza.doblar(85, \"sureste\");\n"
   ]
  },
  {
   "attachments": {},
   "cell_type": "markdown",
   "metadata": {},
   "source": [
    "4) Agregar a la clase Vehiculo, un método que muestre su estado, es decir, a que velocidad se encuentra y su dirección. Y otro método que muestre color, tipo y cilindrada"
   ]
  },
  {
   "cell_type": "code",
   "execution_count": 18,
   "metadata": {},
   "outputs": [],
   "source": [
    "class Vehiculo:\n",
    "    def __init__ (self, color, tipo, motor, matricula = \"0000000\"):\n",
    "        self.color = color;\n",
    "        self.tipo = tipo;\n",
    "        self.motor = motor;\n",
    "        self.velocidad = 0;\n",
    "        self.dirección = 0;\n",
    "        self.sentido = \"este\";\n",
    "        self.__matricula = matricula;\n",
    "\n",
    "    def capturar_matricula (self, matricula):\n",
    "        if (self.__matricula == \"0000000\"):\n",
    "            if (len(matricula) == 7 ):\n",
    "                self.__matricula = matricula;\n",
    "            else:\n",
    "                print(\"El campo de matrícula es incorrecto.\");\n",
    "        else:\n",
    "            print(\"El campo de matrícula contiene datos.\");\n",
    "\n",
    "    def frenar (self, velocidad):\n",
    "        self.velocidad -= velocidad;\n",
    "    \n",
    "    def acelerar (self, velocidad):\n",
    "        self.velocidad += velocidad;\n",
    "\n",
    "    def doblar (self, direccion, sentido):\n",
    "        self.dirección = direccion;\n",
    "        self.sentido = sentido;\n",
    "            \n",
    "    def descripcion (self):\n",
    "        print(f\"El auto es de tipo: '{self.tipo}', color: '{self.color}', con placas de circulación '{self.__matricula}' y motor: '{self.motor}'\");\n",
    "\n",
    "    def estado (self):\n",
    "        print(f\"El auto tipo: '{self.tipo}', color: '{self.color}', con placas de circulación '{self.__matricula}', se dirige a una velocidad de {self.velocidad} km/h y {self.dirección}° hacia el {self.sentido}.\");\n",
    "\n"
   ]
  },
  {
   "cell_type": "code",
   "execution_count": 21,
   "metadata": {},
   "outputs": [
    {
     "name": "stdout",
     "output_type": "stream",
     "text": [
      "El auto es de tipo: 'Sedán', color: 'Plata', con placas de circulación 'AXY456H' y motor: '1.8 con 4 cil'\n",
      "El auto tipo: 'Sedán', color: 'Plata', con placas de circulación 'AXY456H', se dirige a una velocidad de 120 km/h y 30° hacia el sureste.\n",
      "El auto tipo: 'Moto Carreras', color: 'Amarillo/Negro', con placas de circulación 'MPS890S', se dirige a una velocidad de 0 km/h y 0° hacia el norte.\n"
     ]
    }
   ],
   "source": [
    "nissan_sentra.descripcion();\n",
    "nissan_sentra.estado();\n",
    "\n",
    "moto_yamaha.estado();"
   ]
  },
  {
   "attachments": {},
   "cell_type": "markdown",
   "metadata": {},
   "source": [
    "5) Crear una clase que permita utilizar las funciones creadas en la práctica del módulo 7<br>\n",
    "Verificar Primo<br>\n",
    "Valor modal<br>\n",
    "Conversión grados<br>\n",
    "Factorial<br>"
   ]
  },
  {
   "cell_type": "code",
   "execution_count": 22,
   "metadata": {},
   "outputs": [],
   "source": [
    "class Herramientas:\n",
    "    def __init__(self) -> None:\n",
    "        pass\n",
    "\n",
    "    def verificar_primo (self, numero, es_primo = True):\n",
    "        if numero >= 2:\n",
    "            for divisor in range (2, numero):\n",
    "                if (numero % divisor == 0):\n",
    "                    es_primo = False;\n",
    "                    return es_primo;\n",
    "            if (es_primo):\n",
    "                return es_primo;\n",
    "            else:\n",
    "                es_primo = True;\n",
    "                return es_primo;\n",
    "        return False;\n",
    "    \n",
    "\n",
    "\n",
    "    def valor_modal (self, lista_recibida):\n",
    "        numeros_repetidos = [];\n",
    "        for i in range(len(lista_recibida)):\n",
    "            for j in range(len(lista_recibida)):\n",
    "                if i != j:\n",
    "                    if lista_recibida[i] == lista_recibida[j] and lista_recibida[i] not in numeros_repetidos:\n",
    "                        numeros_repetidos.append(lista_recibida[i]);\n",
    "        \n",
    "        lista_conteo = [];\n",
    "        for i in range(len(numeros_repetidos)):\n",
    "            contador = 0;\n",
    "            for j in range(len(lista_recibida)):\n",
    "                if numeros_repetidos[i] == lista_recibida[j]:\n",
    "                    contador += 1;\n",
    "                lista = [numeros_repetidos[i], contador];\n",
    "            lista_conteo.append(lista);\n",
    "            \n",
    "        mayor = 0;\n",
    "        lista_moda = [];\n",
    "        for i in range(len(lista_conteo)):\n",
    "            for j in range(len(lista_conteo[i])):\n",
    "                if lista_conteo[i][1] > mayor:\n",
    "                    mayor = lista_conteo[i][1];\n",
    "                    lista_moda = lista_conteo[i];\n",
    "\n",
    "        return (f\"La moda es el número {lista_moda[0]} con una frecuencia de {lista_moda[1]} veces.\");\n",
    "    \n",
    "\n",
    "\n",
    "\n",
    "    def conversion_temperatura (self, valor, unidad_medida, medida_a_convertir):\n",
    "        if unidad_medida == \"Celcius\" and medida_a_convertir == \"Fahrenheit\":\n",
    "            fahrenheit = (valor * 9/5) + 32;\n",
    "            return (f\"{valor}°C equivalen a {fahrenheit}°F.\");\n",
    "        elif unidad_medida == \"Fahrenheit\" and medida_a_convertir == \"Celcius\":\n",
    "            celcius = (valor - 32) * 5/9;\n",
    "            return (f\"{valor}°F equivalen a {celcius}°C.\");\n",
    "        elif unidad_medida == \"Celcius\" and medida_a_convertir == \"Kelvin\":\n",
    "            kelvin = valor + 273.15;\n",
    "            return (f\"{valor}°C equivalen a {kelvin}°K.\");\n",
    "        elif unidad_medida == \"Fahrenheit\" and medida_a_convertir == \"Kelvin\":\n",
    "            celcius = (valor - 32) * 5/9;\n",
    "            kelvin = celcius + 273.15;\n",
    "            return (f\"{valor}°F equivalen a {kelvin}°K.\");\n",
    "        elif unidad_medida == \"Kelvin\" and medida_a_convertir == \"Celcius\":\n",
    "            celcius = valor - 273.15;\n",
    "            return (f\"{valor}°K equivalen a {celcius}°C.\");\n",
    "        elif unidad_medida == \"Kelvin\" and medida_a_convertir == \"Fahrenheit\":\n",
    "            celcius = valor - 273.15;\n",
    "            fahrenheit = (celcius * 9/5) + 32;\n",
    "            return (f\"{valor}°K equivalen a {fahrenheit}°F.\");\n",
    "        else:\n",
    "            return (f\"Favor de corroborar sus datos.\")\n",
    "\n",
    "\n",
    "\n",
    "\n",
    "    def operacion_factorial(self, num):\n",
    "        if (type(num) == int):\n",
    "            if (num == 1):\n",
    "                return 1;\n",
    "            elif (num <= 0):\n",
    "                return (f\"El número introducido {num} no es positivo.\")\n",
    "            else:\n",
    "                return num * self.operacion_factorial(num - 1);\n",
    "        else:\n",
    "            return (f\"El dato introducido no es un número entero.\");"
   ]
  },
  {
   "attachments": {},
   "cell_type": "markdown",
   "metadata": {},
   "source": [
    "6) Probar las funciones incorporadas en la clase del punto 5"
   ]
  },
  {
   "cell_type": "code",
   "execution_count": 23,
   "metadata": {},
   "outputs": [],
   "source": [
    "tools = Herramientas();"
   ]
  },
  {
   "cell_type": "code",
   "execution_count": 24,
   "metadata": {},
   "outputs": [
    {
     "name": "stdout",
     "output_type": "stream",
     "text": [
      "False\n"
     ]
    }
   ],
   "source": [
    "print (tools.verificar_primo(9));"
   ]
  },
  {
   "cell_type": "code",
   "execution_count": 25,
   "metadata": {},
   "outputs": [
    {
     "name": "stdout",
     "output_type": "stream",
     "text": [
      "La moda es el número 2 con una frecuencia de 4 veces.\n"
     ]
    }
   ],
   "source": [
    "lista = [0,1,2,3,4,2,3,2,5,2,6,7,8];\n",
    "print(tools.valor_modal(lista));"
   ]
  },
  {
   "cell_type": "code",
   "execution_count": 26,
   "metadata": {},
   "outputs": [
    {
     "name": "stdout",
     "output_type": "stream",
     "text": [
      "58°F equivalen a 14.444444444444445°C.\n"
     ]
    }
   ],
   "source": [
    "temperatura = 58;\n",
    "medida_origen = \"Fahrenheit\";\n",
    "medida_destino = \"Celcius\";\n",
    "print(tools.conversion_temperatura(temperatura, medida_origen, medida_destino));\n"
   ]
  },
  {
   "cell_type": "code",
   "execution_count": 27,
   "metadata": {},
   "outputs": [
    {
     "name": "stdout",
     "output_type": "stream",
     "text": [
      "362880\n"
     ]
    }
   ],
   "source": [
    "numero = 9;\n",
    "print (tools.operacion_factorial(numero));"
   ]
  },
  {
   "attachments": {},
   "cell_type": "markdown",
   "metadata": {},
   "source": [
    "7) Es necesario que la clase creada en el punto 5 contenga una lista, sobre la cual se apliquen las funciones incorporadas"
   ]
  },
  {
   "cell_type": "code",
   "execution_count": 28,
   "metadata": {},
   "outputs": [],
   "source": [
    "class Herramientas:\n",
    "    def __init__(self, lista_numeros):\n",
    "        self.lista = lista_numeros;\n",
    "\n",
    "###################################################################################################################\n",
    "    def verificar_primo (self):\n",
    "        for numero in self.lista:\n",
    "            es_primo = self.__verificar_primo(numero);\n",
    "            if (es_primo):\n",
    "                print (f\"El número {numero} de la lista es primo.\");\n",
    "            else:\n",
    "                print(f\"El número {numero} de la lista no es primo.\");\n",
    "\n",
    "    def __verificar_primo (self, numero, es_primo = True):\n",
    "        if numero >= 2:\n",
    "            for divisor in range (2, numero):\n",
    "                if (numero % divisor == 0):\n",
    "                    es_primo = False;\n",
    "                    return es_primo;\n",
    "            if (es_primo):\n",
    "                return es_primo;\n",
    "            else:\n",
    "                es_primo = True;\n",
    "                return es_primo;\n",
    "        return False;\n",
    "\n",
    "###################################################################################################################\n",
    "    def valor_modal (self):\n",
    "        resultado =  self.__valor_modal(self.lista);\n",
    "        print (resultado);\n",
    "\n",
    "\n",
    "    def __valor_modal (self, lista_recibida):\n",
    "        numeros_repetidos = [];\n",
    "        for i in range(len(lista_recibida)):\n",
    "            for j in range(len(lista_recibida)):\n",
    "                if i != j:\n",
    "                    if lista_recibida[i] == lista_recibida[j] and lista_recibida[i] not in numeros_repetidos:\n",
    "                        numeros_repetidos.append(lista_recibida[i]);\n",
    "        \n",
    "        lista_conteo = [];\n",
    "        for i in range(len(numeros_repetidos)):\n",
    "            contador = 0;\n",
    "            for j in range(len(lista_recibida)):\n",
    "                if numeros_repetidos[i] == lista_recibida[j]:\n",
    "                    contador += 1;\n",
    "                lista = [numeros_repetidos[i], contador];\n",
    "            lista_conteo.append(lista);\n",
    "            \n",
    "        mayor = 0;\n",
    "        lista_moda = [];\n",
    "        for i in range(len(lista_conteo)):\n",
    "            for j in range(len(lista_conteo[i])):\n",
    "                if lista_conteo[i][1] > mayor:\n",
    "                    mayor = lista_conteo[i][1];\n",
    "                    lista_moda = lista_conteo[i];\n",
    "\n",
    "        return (f\"La moda es el número {lista_moda[0]} con una frecuencia de {lista_moda[1]} veces.\");\n",
    "    \n",
    "\n",
    "\n",
    "###################################################################################################################\n",
    "    def conversion_tempratura (self, unidad_origen, unidad_destino):\n",
    "        for numero in self.lista:\n",
    "            conversion = self.__conversion_temperatura(numero, unidad_origen, unidad_destino);\n",
    "            print(conversion);\n",
    "\n",
    "\n",
    "    def __conversion_temperatura (self, valor, unidad_medida, medida_a_convertir):\n",
    "        if unidad_medida == \"Celcius\" and medida_a_convertir == \"Fahrenheit\":\n",
    "            fahrenheit = (valor * 9/5) + 32;\n",
    "            return (f\"{valor}°C equivalen a {round(fahrenheit,1)}°F.\");\n",
    "        elif unidad_medida == \"Fahrenheit\" and medida_a_convertir == \"Celcius\":\n",
    "            celcius = (valor - 32) * 5/9;\n",
    "            return (f\"{valor}°F equivalen a {round(celcius,1)}°C.\");\n",
    "        elif unidad_medida == \"Celcius\" and medida_a_convertir == \"Kelvin\":\n",
    "            kelvin = valor + 273.15;\n",
    "            return (f\"{valor}°C equivalen a {round(kelvin,1)}°K.\");\n",
    "        elif unidad_medida == \"Fahrenheit\" and medida_a_convertir == \"Kelvin\":\n",
    "            celcius = (valor - 32) * 5/9;\n",
    "            kelvin = celcius + 273.15;\n",
    "            return (f\"{valor}°F equivalen a {round(kelvin,1)}°K.\");\n",
    "        elif unidad_medida == \"Kelvin\" and medida_a_convertir == \"Celcius\":\n",
    "            celcius = valor - 273.15;\n",
    "            return (f\"{valor}°K equivalen a {round(celcius,1)}°C.\");\n",
    "        elif unidad_medida == \"Kelvin\" and medida_a_convertir == \"Fahrenheit\":\n",
    "            celcius = valor - 273.15;\n",
    "            fahrenheit = (celcius * 9/5) + 32;\n",
    "            return (f\"{valor}°K equivalen a {round(fahrenheit,1)}°F.\");\n",
    "        else:\n",
    "            return (f\"Favor de corroborar sus datos.\")\n",
    "\n",
    "\n",
    "###################################################################################################################\n",
    "    def operacion_factorial (self):\n",
    "        for numero in self.lista:\n",
    "            resultado = self.__operacion_factorial(numero);\n",
    "            print (f\"El factorial de {numero} es {resultado}\");\n",
    "\n",
    "    def __operacion_factorial(self, num):\n",
    "        if (type(num) == int):\n",
    "            if (num == 1):\n",
    "                return 1;\n",
    "            elif (num <= 0):\n",
    "                return (f\"El número introducido {num} no es positivo.\")\n",
    "            else:\n",
    "                return num * self.__operacion_factorial(num - 1);\n",
    "        else:\n",
    "            return (f\"El dato introducido no es un número entero.\");"
   ]
  },
  {
   "cell_type": "code",
   "execution_count": 29,
   "metadata": {},
   "outputs": [
    {
     "name": "stdout",
     "output_type": "stream",
     "text": [
      "1°C equivalen a 33.8°F.\n",
      "2°C equivalen a 35.6°F.\n",
      "2°C equivalen a 35.6°F.\n",
      "3°C equivalen a 37.4°F.\n",
      "1°C equivalen a 33.8°F.\n",
      "2°C equivalen a 35.6°F.\n",
      "4°C equivalen a 39.2°F.\n",
      "5°C equivalen a 41.0°F.\n",
      "2°C equivalen a 35.6°F.\n",
      "6°C equivalen a 42.8°F.\n",
      "8°C equivalen a 46.4°F.\n",
      "1°C equivalen a 33.8°F.\n",
      "3°C equivalen a 37.4°F.\n",
      "11°C equivalen a 51.8°F.\n",
      "17°C equivalen a 62.6°F.\n"
     ]
    }
   ],
   "source": [
    "lista_numeros = [1,2,2,3,1,2,4,5,2,6,8,1,3,11,17];\n",
    "tool_box = Herramientas(lista_numeros);\n",
    "tool_box.conversion_tempratura(\"Celcius\", \"Fahrenheit\");\n"
   ]
  },
  {
   "cell_type": "code",
   "execution_count": 30,
   "metadata": {},
   "outputs": [
    {
     "name": "stdout",
     "output_type": "stream",
     "text": [
      "El factorial de 1 es 1\n",
      "El factorial de 2 es 2\n",
      "El factorial de 2 es 2\n",
      "El factorial de 3 es 6\n",
      "El factorial de 1 es 1\n",
      "El factorial de 2 es 2\n",
      "El factorial de 4 es 24\n",
      "El factorial de 5 es 120\n",
      "El factorial de 2 es 2\n",
      "El factorial de 6 es 720\n",
      "El factorial de 8 es 40320\n",
      "El factorial de 1 es 1\n",
      "El factorial de 3 es 6\n",
      "El factorial de 11 es 39916800\n",
      "El factorial de 17 es 355687428096000\n"
     ]
    }
   ],
   "source": [
    "tool_box.operacion_factorial();"
   ]
  },
  {
   "cell_type": "code",
   "execution_count": 31,
   "metadata": {},
   "outputs": [
    {
     "name": "stdout",
     "output_type": "stream",
     "text": [
      "La moda es el número 2 con una frecuencia de 4 veces.\n"
     ]
    }
   ],
   "source": [
    "tool_box.valor_modal();"
   ]
  },
  {
   "cell_type": "code",
   "execution_count": 32,
   "metadata": {},
   "outputs": [
    {
     "name": "stdout",
     "output_type": "stream",
     "text": [
      "El número 1 de la lista no es primo.\n",
      "El número 2 de la lista es primo.\n",
      "El número 2 de la lista es primo.\n",
      "El número 3 de la lista es primo.\n",
      "El número 1 de la lista no es primo.\n",
      "El número 2 de la lista es primo.\n",
      "El número 4 de la lista no es primo.\n",
      "El número 5 de la lista es primo.\n",
      "El número 2 de la lista es primo.\n",
      "El número 6 de la lista no es primo.\n",
      "El número 8 de la lista no es primo.\n",
      "El número 1 de la lista no es primo.\n",
      "El número 3 de la lista es primo.\n",
      "El número 11 de la lista es primo.\n",
      "El número 17 de la lista es primo.\n"
     ]
    }
   ],
   "source": [
    "tool_box.verificar_primo();"
   ]
  },
  {
   "attachments": {},
   "cell_type": "markdown",
   "metadata": {},
   "source": [
    "8) Crear un archivo .py aparte y ubicar allí la clase generada en el punto anterior. Luego realizar la importación del módulo y probar alguna de sus funciones"
   ]
  },
  {
   "cell_type": "code",
   "execution_count": 33,
   "metadata": {},
   "outputs": [],
   "source": [
    "import toolbox;\n"
   ]
  },
  {
   "cell_type": "code",
   "execution_count": 34,
   "metadata": {},
   "outputs": [],
   "source": [
    "lista_a_evaluar = [2,5,3,6,7,8,3,0,17,12,11,13,5,2,4,3,8,9,3,1];\n",
    "tool_importer = toolbox.Toolsclass(lista_a_evaluar);\n"
   ]
  },
  {
   "cell_type": "code",
   "execution_count": 35,
   "metadata": {},
   "outputs": [
    {
     "name": "stdout",
     "output_type": "stream",
     "text": [
      "2°K equivalen a -456.1°F.\n",
      "5°K equivalen a -450.7°F.\n",
      "3°K equivalen a -454.3°F.\n",
      "6°K equivalen a -448.9°F.\n",
      "7°K equivalen a -447.1°F.\n",
      "8°K equivalen a -445.3°F.\n",
      "3°K equivalen a -454.3°F.\n",
      "0°K equivalen a -459.7°F.\n",
      "17°K equivalen a -429.1°F.\n",
      "12°K equivalen a -438.1°F.\n",
      "11°K equivalen a -439.9°F.\n",
      "13°K equivalen a -436.3°F.\n",
      "5°K equivalen a -450.7°F.\n",
      "2°K equivalen a -456.1°F.\n",
      "4°K equivalen a -452.5°F.\n",
      "3°K equivalen a -454.3°F.\n",
      "8°K equivalen a -445.3°F.\n",
      "9°K equivalen a -443.5°F.\n",
      "3°K equivalen a -454.3°F.\n",
      "1°K equivalen a -457.9°F.\n"
     ]
    }
   ],
   "source": [
    "tool_importer.conversion_tempratura(\"Kelvin\", \"Fahrenheit\");"
   ]
  },
  {
   "cell_type": "code",
   "execution_count": 36,
   "metadata": {},
   "outputs": [
    {
     "name": "stdout",
     "output_type": "stream",
     "text": [
      "La moda es el número 3 con una frecuencia de 4 veces.\n"
     ]
    }
   ],
   "source": [
    "tool_importer.valor_modal();"
   ]
  },
  {
   "cell_type": "code",
   "execution_count": 37,
   "metadata": {},
   "outputs": [
    {
     "name": "stdout",
     "output_type": "stream",
     "text": [
      "El factorial de 2 es 2\n",
      "El factorial de 5 es 120\n",
      "El factorial de 3 es 6\n",
      "El factorial de 6 es 720\n",
      "El factorial de 7 es 5040\n",
      "El factorial de 8 es 40320\n",
      "El factorial de 3 es 6\n",
      "El factorial de 0 es El número introducido 0 no es positivo.\n",
      "El factorial de 17 es 355687428096000\n",
      "El factorial de 12 es 479001600\n",
      "El factorial de 11 es 39916800\n",
      "El factorial de 13 es 6227020800\n",
      "El factorial de 5 es 120\n",
      "El factorial de 2 es 2\n",
      "El factorial de 4 es 24\n",
      "El factorial de 3 es 6\n",
      "El factorial de 8 es 40320\n",
      "El factorial de 9 es 362880\n",
      "El factorial de 3 es 6\n",
      "El factorial de 1 es 1\n"
     ]
    }
   ],
   "source": [
    "tool_importer.operacion_factorial();"
   ]
  },
  {
   "cell_type": "code",
   "execution_count": 38,
   "metadata": {},
   "outputs": [
    {
     "name": "stdout",
     "output_type": "stream",
     "text": [
      "El número 2 de la lista es primo.\n",
      "El número 5 de la lista es primo.\n",
      "El número 3 de la lista es primo.\n",
      "El número 6 de la lista no es primo.\n",
      "El número 7 de la lista es primo.\n",
      "El número 8 de la lista no es primo.\n",
      "El número 3 de la lista es primo.\n",
      "El número 0 de la lista no es primo.\n",
      "El número 17 de la lista es primo.\n",
      "El número 12 de la lista no es primo.\n",
      "El número 11 de la lista es primo.\n",
      "El número 13 de la lista es primo.\n",
      "El número 5 de la lista es primo.\n",
      "El número 2 de la lista es primo.\n",
      "El número 4 de la lista no es primo.\n",
      "El número 3 de la lista es primo.\n",
      "El número 8 de la lista no es primo.\n",
      "El número 9 de la lista no es primo.\n",
      "El número 3 de la lista es primo.\n",
      "El número 1 de la lista no es primo.\n"
     ]
    }
   ],
   "source": [
    "tool_importer.verificar_primo();"
   ]
  }
 ],
 "metadata": {
  "interpreter": {
   "hash": "c85384e4cb51c8b72350f3a8712cc8351fdc3955e32a27f9b60c6242ab125f01"
  },
  "kernelspec": {
   "display_name": "Python 3 (ipykernel)",
   "language": "python",
   "name": "python3"
  },
  "language_info": {
   "codemirror_mode": {
    "name": "ipython",
    "version": 3
   },
   "file_extension": ".py",
   "mimetype": "text/x-python",
   "name": "python",
   "nbconvert_exporter": "python",
   "pygments_lexer": "ipython3",
   "version": "3.12.0"
  }
 },
 "nbformat": 4,
 "nbformat_minor": 4
}
