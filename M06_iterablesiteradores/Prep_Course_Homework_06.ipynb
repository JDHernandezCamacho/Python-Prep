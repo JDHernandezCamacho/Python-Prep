{
 "cells": [
  {
   "attachments": {},
   "cell_type": "markdown",
   "metadata": {},
   "source": [
    "## Iteradores e iterables"
   ]
  },
  {
   "attachments": {},
   "cell_type": "markdown",
   "metadata": {},
   "source": [
    "1) A partir de una lista vacía, utilizar un ciclo while para cargar allí números negativos del -15 al -1"
   ]
  },
  {
   "cell_type": "code",
   "execution_count": 14,
   "metadata": {},
   "outputs": [
    {
     "name": "stdout",
     "output_type": "stream",
     "text": [
      "[-15, -14, -13, -12, -11, -10, -9, -8, -7, -6, -5, -4, -3, -2, -1]\n",
      "[-15, -14, -13, -12, -11, -10, -9, -8, -7, -6, -5, -4, -3, -2, -1]\n"
     ]
    }
   ],
   "source": [
    "#Utilizando insert, se vuelve más compleja ya que utiliza dos variables (de control y de índice) que se van sumando.\n",
    "negative_list = [];\n",
    "x = -15;\n",
    "index = 0;\n",
    "while (x <= -1):\n",
    "    negative_list.insert(index, x);\n",
    "    index += 1;\n",
    "    x += 1;\n",
    "print (negative_list);\n",
    "\n",
    "#Utilizando apend, esta segunda opción en más simple al solo usar una variable de control.\n",
    "x = -15;\n",
    "negative_list2 = [];\n",
    "while (x < 0):\n",
    "    negative_list2.append(x);\n",
    "    x += 1;\n",
    "print (negative_list2);"
   ]
  },
  {
   "attachments": {},
   "cell_type": "markdown",
   "metadata": {},
   "source": [
    "2) ¿Con un ciclo while sería posible recorrer la lista para imprimir sólo los números pares?"
   ]
  },
  {
   "cell_type": "code",
   "execution_count": 15,
   "metadata": {},
   "outputs": [
    {
     "name": "stdout",
     "output_type": "stream",
     "text": [
      "Usando While.\n",
      "-14\n",
      "-12\n",
      "-10\n",
      "-8\n",
      "-6\n",
      "-4\n",
      "-2\n"
     ]
    }
   ],
   "source": [
    "##### Con este código se sabe si una variable es iterable \n",
    "#from collections.abc import Iterable;\n",
    "# cadena = \"Diego\";\n",
    "# positive_list = [1, 2 ,3 ,4, 5];\n",
    "# print(isinstance(negative_list, Iterable));\n",
    "print (\"Usando While.\");\n",
    "index = 0;\n",
    "while index < len(negative_list):\n",
    "    if (negative_list[index] % 2 == 0):\n",
    "        print (negative_list[index]);\n",
    "    index += 1;\n"
   ]
  },
  {
   "attachments": {},
   "cell_type": "markdown",
   "metadata": {},
   "source": [
    "3) Resolver el punto anterior sin utilizar un ciclo while"
   ]
  },
  {
   "cell_type": "code",
   "execution_count": 16,
   "metadata": {},
   "outputs": [
    {
     "name": "stdout",
     "output_type": "stream",
     "text": [
      "Usando for.\n",
      "-14\n",
      "-12\n",
      "-10\n",
      "-8\n",
      "-6\n",
      "-4\n",
      "-2\n"
     ]
    }
   ],
   "source": [
    "print (\"Usando for.\");\n",
    "for elemento in negative_list:\n",
    "    if (elemento % 2 == 0):\n",
    "        print (elemento);"
   ]
  },
  {
   "attachments": {},
   "cell_type": "markdown",
   "metadata": {},
   "source": [
    "4) Utilizar el iterable para recorrer sólo los primeros 3 elementos"
   ]
  },
  {
   "cell_type": "code",
   "execution_count": 17,
   "metadata": {},
   "outputs": [
    {
     "name": "stdout",
     "output_type": "stream",
     "text": [
      "Usando while.\n",
      "-15\n",
      "-14\n",
      "-13\n",
      "Usando for.\n",
      "-15\n",
      "-14\n",
      "-13\n"
     ]
    }
   ],
   "source": [
    "# Utilizando While\n",
    "print(\"Usando while.\")\n",
    "iterator = 0;\n",
    "while (iterator < 3):\n",
    "    print (negative_list[iterator]);\n",
    "    iterator += 1;\n",
    "\n",
    "#Utilizando for\n",
    "print (\"Usando for.\")\n",
    "for element in negative_list[0:3]:\n",
    "    print (element);"
   ]
  },
  {
   "attachments": {},
   "cell_type": "markdown",
   "metadata": {},
   "source": [
    "5) Utilizar la función **enumerate** para obtener dentro del iterable, tambien el índice al que corresponde el elemento"
   ]
  },
  {
   "cell_type": "code",
   "execution_count": 18,
   "metadata": {},
   "outputs": [
    {
     "name": "stdout",
     "output_type": "stream",
     "text": [
      "0 -15\n",
      "1 -14\n",
      "2 -13\n",
      "3 -12\n",
      "4 -11\n",
      "5 -10\n",
      "6 -9\n",
      "7 -8\n",
      "8 -7\n",
      "9 -6\n",
      "10 -5\n",
      "11 -4\n",
      "12 -3\n",
      "13 -2\n",
      "14 -1\n"
     ]
    }
   ],
   "source": [
    "for indice, element in enumerate(negative_list):\n",
    "        print(indice, element);"
   ]
  },
  {
   "attachments": {},
   "cell_type": "markdown",
   "metadata": {},
   "source": [
    "6) Dada la siguiente lista de números enteros entre 1 y 20, crear un ciclo donde se completen los valores faltantes: lista = [1,2,5,7,8,10,13,14,15,17,20]"
   ]
  },
  {
   "cell_type": "code",
   "execution_count": 19,
   "metadata": {},
   "outputs": [
    {
     "name": "stdout",
     "output_type": "stream",
     "text": [
      "[1, 2, 3, 4, 5, 6, 7, 8, 9, 10, 11, 12, 13, 14, 15, 16, 17, 18, 19, 20]\n"
     ]
    }
   ],
   "source": [
    "lista = [1,2,5,7,8,10,13,14,15,17,20];\n",
    "\n",
    "indice = 0;\n",
    "while indice < 20:\n",
    "    if (indice + 1 != lista[indice]):\n",
    "        lista.insert(indice, indice + 1);\n",
    "    indice += 1;\n",
    "\n",
    "print(lista);"
   ]
  },
  {
   "attachments": {},
   "cell_type": "markdown",
   "metadata": {},
   "source": [
    "7) La sucesión de Fibonacci es un listado de números que sigue la fórmula: <br>\n",
    "n<sub>0</sub> = 0<br>\n",
    "n<sub>1</sub> = 1<br>\n",
    "n<sub>i</sub> = n<sub>i-1</sub> + n<sub>i-2</sub><br>\n",
    "Crear una lista con los primeros treinta números de la sucesión.<br>"
   ]
  },
  {
   "cell_type": "code",
   "execution_count": 20,
   "metadata": {},
   "outputs": [
    {
     "name": "stdout",
     "output_type": "stream",
     "text": [
      "[0, 1, 1, 2, 3, 5, 8, 13, 21, 34, 55, 89, 144, 233, 377, 610, 987, 1597, 2584, 4181, 6765, 10946, 17711, 28657, 46368, 75025, 121393, 196418, 317811, 514229]\n"
     ]
    }
   ],
   "source": [
    "i = 2;\n",
    "sucesion_fibonacci = [0, 1];\n",
    "while i < 30:\n",
    "    numero_a_insertar = sucesion_fibonacci[i-1] + sucesion_fibonacci[i-2];\n",
    "    sucesion_fibonacci.insert(i, numero_a_insertar);\n",
    "    i += 1;\n",
    "print(sucesion_fibonacci);\n",
    "    "
   ]
  },
  {
   "attachments": {},
   "cell_type": "markdown",
   "metadata": {},
   "source": [
    "8) Realizar la suma de todos elementos de la lista del punto anterior"
   ]
  },
  {
   "cell_type": "code",
   "execution_count": 21,
   "metadata": {},
   "outputs": [
    {
     "name": "stdout",
     "output_type": "stream",
     "text": [
      "1346268\n"
     ]
    }
   ],
   "source": [
    "suma = 0;\n",
    "for elemento in sucesion_fibonacci:\n",
    "    suma = suma + elemento;\n",
    "print (suma);"
   ]
  },
  {
   "attachments": {},
   "cell_type": "markdown",
   "metadata": {},
   "source": [
    "9) La proporción aurea se expresa con una proporción matemática que nace el número irracional Phi= 1,618… que los griegos llamaron número áureo. El cuál se puede aproximar con la sucesión de Fibonacci. Con la lista del ejercicio anterior, imprimir el cociente de los últimos 5 pares de dos números contiguos:<br>\n",
    "Donde i es la cantidad total de elementos<br>\n",
    "n<sub>i-1</sub> / n<sub>i</sub><br>\n",
    "n<sub>i-2</sub> / n<sub>i-1</sub><br>\n",
    "n<sub>i-3</sub> / n<sub>i-2</sub><br>\n",
    "n<sub>i-4</sub> / n<sub>i-3</sub><br>\n",
    "n<sub>i-5</sub> / n<sub>i-4</sub><br>\n",
    " "
   ]
  },
  {
   "cell_type": "code",
   "execution_count": 22,
   "metadata": {},
   "outputs": [
    {
     "name": "stdout",
     "output_type": "stream",
     "text": [
      "1.6180339887543225\n",
      "1.618033988738303\n",
      "1.6180339887802426\n",
      "1.6180339886704431\n",
      "1.618033988957902\n"
     ]
    }
   ],
   "source": [
    "## Sólo mencionar que la información que precisan en el ejemplo esta incorrecta\n",
    "## La forma correcta sería \n",
    "#          n(i)/n(i-1)\n",
    "#          n(i-1)/n(i-2)\n",
    "\n",
    "## Mediante el ciclo while:\n",
    "i = 29;\n",
    "ajustador = 0;\n",
    "while i > 24:\n",
    "    numero_aureo = sucesion_fibonacci[i] / sucesion_fibonacci[i-1];\n",
    "    # print(f\"Posicion:{i} valor:{sucesion_fibonacci[i]} / posicion:{i-1} valor:{sucesion_fibonacci[i-1]}, es igual {numero_aureo}\");\n",
    "    print(numero_aureo);\n",
    "    i -= 1;\n"
   ]
  },
  {
   "attachments": {},
   "cell_type": "markdown",
   "metadata": {},
   "source": [
    "10) A partir de la variable cadena ya dada, mostrar en qué posiciones aparece la letra \"n\"<br>\n",
    "cadena = 'Hola Mundo. Esto es una practica del lenguaje de programación Python'"
   ]
  },
  {
   "cell_type": "code",
   "execution_count": 23,
   "metadata": {},
   "outputs": [
    {
     "name": "stdout",
     "output_type": "stream",
     "text": [
      "La letra 'n' se encuentra en la posición 7\n",
      "La letra 'n' se encuentra en la posición 21\n",
      "La letra 'n' se encuentra en la posición 39\n",
      "La letra 'n' se encuentra en la posición 60\n",
      "La letra 'n' se encuentra en la posición 67\n"
     ]
    }
   ],
   "source": [
    "cadena = \"Hola mundo. Esto es una practica del lenguaje de programación Python\";\n",
    "\n",
    "for i, n in enumerate(cadena):\n",
    "    if (\"n\" == n):\n",
    "        print (f\"La letra 'n' se encuentra en la posición {i}\");"
   ]
  },
  {
   "attachments": {},
   "cell_type": "markdown",
   "metadata": {},
   "source": [
    "11) Crear un diccionario e imprimir sus claves utilizando un iterador"
   ]
  },
  {
   "cell_type": "code",
   "execution_count": 24,
   "metadata": {},
   "outputs": [
    {
     "name": "stdout",
     "output_type": "stream",
     "text": [
      "domesticos\n",
      "salvajes\n",
      "El diccionario 'ánimales' tiene las claves dict_keys(['domesticos', 'salvajes'])\n",
      "dict_keys(['domesticos', 'salvajes'])\n"
     ]
    }
   ],
   "source": [
    "animales = {\"domesticos\": [\"perro\", \"gato\", \"perico\", \"gallina\", \"vaca\", \"cerdos\"],\n",
    "            \"salvajes\": [\"leon\",\"oso\", \"lagarto\", \"tigre\", \"lobo\"]};\n",
    "\n",
    "# Primera forma de acceder a las claves\n",
    "for clave in animales:\n",
    "    print (clave);\n",
    "\n",
    "# Segunda forma de acceder a las claves\n",
    "print(f\"El diccionario 'ánimales' tiene las claves {animales.keys()}\");\n",
    "\n",
    "# Tercera forma de acceder a las claves\n",
    "print (dict.keys(animales));"
   ]
  },
  {
   "attachments": {},
   "cell_type": "markdown",
   "metadata": {},
   "source": [
    "12) Convertir en una lista la variable \"cadena\" del punto 10 y luego recorrerla con un iterador "
   ]
  },
  {
   "cell_type": "code",
   "execution_count": 25,
   "metadata": {},
   "outputs": [
    {
     "name": "stdout",
     "output_type": "stream",
     "text": [
      "Iterando con ciclo for.\n",
      "El conteo de la búsqueda de la letra 'a' es de 1.\n",
      "El conteo de la búsqueda de la letra 'a' es de 2.\n",
      "El conteo de la búsqueda de la letra 'a' es de 3.\n",
      "El conteo de la búsqueda de la letra 'a' es de 4.\n",
      "El conteo de la búsqueda de la letra 'a' es de 5.\n",
      "El conteo de la búsqueda de la letra 'a' es de 6.\n",
      "El conteo de la búsqueda de la letra 'a' es de 7.\n",
      "\n",
      "Iterando con ciclo while.\n",
      "Letra'a' encontrada en la posición 3.\n",
      "Letra'a' encontrada en la posición 22.\n",
      "Letra'a' encontrada en la posición 26.\n",
      "Letra'a' encontrada en la posición 31.\n",
      "Letra'a' encontrada en la posición 42.\n",
      "Letra'a' encontrada en la posición 54.\n",
      "Letra'a' encontrada en la posición 56.\n",
      "\n",
      "Iterando con iter.\n",
      "Iteracion ejecutada 1 vez.\n",
      "Iteracion ejecutada 2 veces.\n"
     ]
    }
   ],
   "source": [
    "#Convirtiendo la cadena a lista\n",
    "print (\"Iterando con ciclo for.\");\n",
    "cadena = \"Hola mundo. Esto es una practica del lenguaje de programación Python\";\n",
    "lista_from_cadena = list(cadena);\n",
    "\n",
    "#Iterando con for\n",
    "conteo = 0;\n",
    "for i, element in enumerate(lista_from_cadena):\n",
    "    if (element == \"a\"):\n",
    "        conteo += 1;\n",
    "        print(f\"El conteo de la búsqueda de la letra 'a' es de {conteo}.\")\n",
    "\n",
    "   \n",
    "#Iterando con while\n",
    "print (\"\\nIterando con ciclo while.\");\n",
    "index_lista = 0\n",
    "while index_lista < len(lista_from_cadena):\n",
    "    if (lista_from_cadena[index_lista] == \"a\"):\n",
    "        print(f\"Letra'a' encontrada en la posición {index_lista}.\");\n",
    "    index_lista += 1;\n",
    "\n",
    "#Iterando con la función iter\n",
    "print (\"\\nIterando con iter.\");\n",
    "my_iterator = iter(lista_from_cadena);\n",
    "next(my_iterator);\n",
    "print(\"Iteracion ejecutada 1 vez.\");\n",
    "next(my_iterator);\n",
    "print(\"Iteracion ejecutada 2 veces.\");"
   ]
  },
  {
   "attachments": {},
   "cell_type": "markdown",
   "metadata": {},
   "source": [
    "13) Crear dos listas y unirlas en una tupla utilizando la función zip"
   ]
  },
  {
   "cell_type": "code",
   "execution_count": 26,
   "metadata": {},
   "outputs": [
    {
     "name": "stdout",
     "output_type": "stream",
     "text": [
      "Unión de dos listas con función zip: \n",
      " [('perro', 'leon'), ('gato', 'oso'), ('perico', 'lagarto'), ('gallina', 'tigre'), ('vaca', 'lobo')]\n",
      "\n",
      "\n",
      "('perro', 'leon')\n",
      "('gato', 'oso')\n",
      "('perico', 'lagarto')\n",
      "('gallina', 'tigre')\n",
      "('vaca', 'lobo')\n"
     ]
    }
   ],
   "source": [
    "\n",
    "#Creando las listas a partir del diccionario del punto 11.\n",
    "lista_animales = list(animales.values());\n",
    "animales_domesticos = [];\n",
    "animales_salvajes = [];\n",
    "i = 0;\n",
    "while i < len(lista_animales):\n",
    "    for elemento in lista_animales[i]:\n",
    "        if i == 0:\n",
    "            animales_domesticos.append(elemento);\n",
    "        else:\n",
    "            animales_salvajes.append(elemento);\n",
    "    i += 1;\n",
    "\n",
    "\n",
    "#Uniendo las listas con funcion zip \n",
    "lista_zip = zip(animales_domesticos, animales_salvajes);\n",
    "print(f\"Unión de dos listas con función zip: \\n {list(lista_zip)}\\n\\n\")\n",
    "lista_zip = zip(animales_domesticos, animales_salvajes);\n",
    "for elem in lista_zip:\n",
    "    print(elem);\n",
    "\n",
    "## Si las listas no tienen los mismos numeros de datos, se perderan estos, solo forma combinaciones"
   ]
  },
  {
   "attachments": {},
   "cell_type": "markdown",
   "metadata": {},
   "source": [
    "14) A partir de la siguiente lista de números, crear una nueva sólo si el número es divisible por 7<br>\n",
    "lis = [18,21,29,32,35,42,56,60,63,71,84,90,91,100]"
   ]
  },
  {
   "cell_type": "code",
   "execution_count": 27,
   "metadata": {},
   "outputs": [
    {
     "name": "stdout",
     "output_type": "stream",
     "text": [
      "[21, 35, 42, 56, 63, 84, 91]\n",
      "[21, 35, 42, 56, 63, 84, 91]\n"
     ]
    }
   ],
   "source": [
    "#Utilizando ciclo for\n",
    "lis = [18,21,29,32,35,42,56,60,63,71,84,90,91,100];\n",
    "\n",
    "divisibles_7 = [];\n",
    "for elemen in lis:\n",
    "    if (elemen % 7 == 0):\n",
    "        divisibles_7.append(elemen);\n",
    "print(divisibles_7);\n",
    "\n",
    "#Utilizando condicionales\n",
    "lis = [18,21,29,32,35,42,56,60,63,71,84,90,91,100];\n",
    "multiplos_7 = [i for i in lis if i % 7 == 0];\n",
    "print(multiplos_7);"
   ]
  },
  {
   "attachments": {},
   "cell_type": "markdown",
   "metadata": {},
   "source": [
    "15) A partir de la lista de a continuación, contar la cantidad total de elementos que contiene, teniendo en cuenta que un elemento de la lista podría ser otra lista:<br>\n",
    "lis = [[1,2,3,4],'rojo','verde',[True,False,False],['uno','dos','tres']]"
   ]
  },
  {
   "cell_type": "code",
   "execution_count": 28,
   "metadata": {},
   "outputs": [
    {
     "name": "stdout",
     "output_type": "stream",
     "text": [
      "12\n"
     ]
    }
   ],
   "source": [
    "lis = [[1,2,3,4],'rojo','verde',[True,False,False],['uno','dos','tres']];\n",
    "\n",
    "elementos_totales = 0;\n",
    "for index in lis:\n",
    "    if (type(index) != list):\n",
    "        elementos_totales += 1;\n",
    "    else:\n",
    "        elementos_totales += len(index);\n",
    "\n",
    "print(elementos_totales);\n"
   ]
  },
  {
   "attachments": {},
   "cell_type": "markdown",
   "metadata": {},
   "source": [
    "16) Tomar la lista del punto anterior y convertir cada elemento en una lista si no lo es"
   ]
  },
  {
   "cell_type": "code",
   "execution_count": 48,
   "metadata": {},
   "outputs": [
    {
     "name": "stdout",
     "output_type": "stream",
     "text": [
      "[[1, 2, 3, 4], 'rojo', 'verde', [True, False, False], ['uno', 'dos', 'tres']]\n",
      "\n",
      " Lista convertida.\n",
      " [[1, 2, 3, 4], ['rojo'], ['verde'], [True, False, False], ['uno', 'dos', 'tres']]\n"
     ]
    }
   ],
   "source": [
    "lis = [[1,2,3,4],'rojo','verde',[True,False,False],['uno','dos','tres']];\n",
    "print(lis);\n",
    "\n",
    "for index, elemento in enumerate(lis):\n",
    "    if (type(elemento) != list):\n",
    "        # print (index, elemento);\n",
    "        lis[index] = list([elemento]);\n",
    "\n",
    "print(f\"\\n Lista convertida.\\n {lis}\");\n"
   ]
  }
 ],
 "metadata": {
  "interpreter": {
   "hash": "c85384e4cb51c8b72350f3a8712cc8351fdc3955e32a27f9b60c6242ab125f01"
  },
  "kernelspec": {
   "display_name": "Python 3 (ipykernel)",
   "language": "python",
   "name": "python3"
  },
  "language_info": {
   "codemirror_mode": {
    "name": "ipython",
    "version": 3
   },
   "file_extension": ".py",
   "mimetype": "text/x-python",
   "name": "python",
   "nbconvert_exporter": "python",
   "pygments_lexer": "ipython3",
   "version": "3.9.7"
  }
 },
 "nbformat": 4,
 "nbformat_minor": 4
}
