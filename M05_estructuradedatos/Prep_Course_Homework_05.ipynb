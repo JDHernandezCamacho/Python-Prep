{
 "cells": [
  {
   "attachments": {},
   "cell_type": "markdown",
   "metadata": {},
   "source": [
    "## Estructuras de Datos"
   ]
  },
  {
   "attachments": {},
   "cell_type": "markdown",
   "metadata": {},
   "source": [
    "1) Crear una lista que contenga nombres de ciudades del mundo que contenga más de 5 elementos e imprimir por pantalla"
   ]
  },
  {
   "cell_type": "code",
   "execution_count": 201,
   "metadata": {},
   "outputs": [
    {
     "name": "stdout",
     "output_type": "stream",
     "text": [
      "['México', 'Londres', 'Nueva York', 'Barcelona', 'Buenos Aires', 'Guadalajara']\n",
      "<class 'set'>\n",
      "{1, 2, 3, 4}\n"
     ]
    }
   ],
   "source": [
    "ciudades = [\"México\", \"Londres\", \"Nueva York\", \"Barcelona\", \"Buenos Aires\", \"Guadalajara\"];\n",
    "print (ciudades);\n"
   ]
  },
  {
   "attachments": {},
   "cell_type": "markdown",
   "metadata": {},
   "source": [
    "2) Imprimir por pantalla el segundo elemento de la lista"
   ]
  },
  {
   "cell_type": "code",
   "execution_count": 147,
   "metadata": {},
   "outputs": [
    {
     "name": "stdout",
     "output_type": "stream",
     "text": [
      "Londres\n"
     ]
    }
   ],
   "source": [
    "print(ciudades[1]);"
   ]
  },
  {
   "attachments": {},
   "cell_type": "markdown",
   "metadata": {},
   "source": [
    "3) Imprimir por pantalla del segundo al cuarto elemento"
   ]
  },
  {
   "cell_type": "code",
   "execution_count": 148,
   "metadata": {},
   "outputs": [
    {
     "name": "stdout",
     "output_type": "stream",
     "text": [
      "['Londres', 'Nueva York', 'Barcelona']\n",
      "Londres\n",
      "Nueva York\n",
      "Barcelona\n"
     ]
    }
   ],
   "source": [
    "print (ciudades[1:4]);\n",
    "\n",
    "#Por medio del ciclo for\n",
    "index = 1;\n",
    "for index in range (1, 4):\n",
    "    print (ciudades[index]);"
   ]
  },
  {
   "attachments": {},
   "cell_type": "markdown",
   "metadata": {},
   "source": [
    "4) Visualizar el tipo de dato de la lista"
   ]
  },
  {
   "cell_type": "code",
   "execution_count": 149,
   "metadata": {},
   "outputs": [
    {
     "name": "stdout",
     "output_type": "stream",
     "text": [
      "<class 'list'>\n"
     ]
    }
   ],
   "source": [
    "print(type(ciudades));"
   ]
  },
  {
   "attachments": {},
   "cell_type": "markdown",
   "metadata": {},
   "source": [
    "5) Visualizar todos los elementos de la lista a partir del tercero de manera genérica, es decir, sin explicitar la posición del último elemento"
   ]
  },
  {
   "cell_type": "code",
   "execution_count": 150,
   "metadata": {},
   "outputs": [
    {
     "name": "stdout",
     "output_type": "stream",
     "text": [
      "['Nueva York', 'Barcelona', 'Buenos Aires', 'Guadalajara']\n",
      "Nueva York\n",
      "Barcelona\n",
      "Buenos Aires\n",
      "Guadalajara\n"
     ]
    }
   ],
   "source": [
    "print (ciudades[2:]);\n",
    "\n",
    "#Por medio del ciclo for\n",
    "for index in range (2, len(ciudades)):\n",
    "    print (ciudades[index]);"
   ]
  },
  {
   "attachments": {},
   "cell_type": "markdown",
   "metadata": {},
   "source": [
    "6) Visualizar los primeros 4 elementos de la lista"
   ]
  },
  {
   "cell_type": "code",
   "execution_count": 151,
   "metadata": {},
   "outputs": [
    {
     "name": "stdout",
     "output_type": "stream",
     "text": [
      "['México', 'Londres', 'Nueva York', 'Barcelona']\n",
      "México\n",
      "Londres\n",
      "Nueva York\n",
      "Barcelona\n"
     ]
    }
   ],
   "source": [
    "print (ciudades[:4]);\n",
    "\n",
    "#Por medio del ciclo for\n",
    "for index in range (0, 4):\n",
    "    print (ciudades[index]);"
   ]
  },
  {
   "attachments": {},
   "cell_type": "markdown",
   "metadata": {},
   "source": [
    "7) Agregar una ciudad más a la lista que ya exista y otra que no ¿Arroja algún tipo de error?"
   ]
  },
  {
   "cell_type": "code",
   "execution_count": 152,
   "metadata": {},
   "outputs": [
    {
     "name": "stdout",
     "output_type": "stream",
     "text": [
      "['México', 'Londres', 'Nueva York', 'Barcelona', 'Buenos Aires', 'Guadalajara', 'Nueva York', 'Bogota']\n"
     ]
    }
   ],
   "source": [
    "ciudades.append(\"Nueva York\");\n",
    "ciudades.append(\"Bogota\");\n",
    "print(ciudades);"
   ]
  },
  {
   "attachments": {},
   "cell_type": "markdown",
   "metadata": {},
   "source": [
    "8) Agregar otra ciudad, pero en la cuarta posición"
   ]
  },
  {
   "cell_type": "code",
   "execution_count": 153,
   "metadata": {},
   "outputs": [
    {
     "name": "stdout",
     "output_type": "stream",
     "text": [
      "['México', 'Londres', 'Nueva York', 'Monterrey', 'Barcelona', 'Buenos Aires', 'Guadalajara', 'Nueva York', 'Bogota']\n"
     ]
    }
   ],
   "source": [
    "ciudades.insert(3, \"Monterrey\");\n",
    "print(ciudades);"
   ]
  },
  {
   "attachments": {},
   "cell_type": "markdown",
   "metadata": {},
   "source": [
    "9) Concatenar otra lista a la ya creada"
   ]
  },
  {
   "cell_type": "code",
   "execution_count": 154,
   "metadata": {},
   "outputs": [
    {
     "name": "stdout",
     "output_type": "stream",
     "text": [
      "['México', 'Londres', 'Nueva York', 'Monterrey', 'Barcelona', 'Buenos Aires', 'Guadalajara', 'Nueva York', 'Bogota', 'California', 'Reino Unido', 'Puebla', 'Tehuacán', 'Guadalajara']\n"
     ]
    }
   ],
   "source": [
    "cities_other_list = [\"California\", \"Reino Unido\", \"Puebla\", \"Tehuacán\", \"Guadalajara\"];\n",
    "ciudades.extend(cities_other_list);\n",
    "print(ciudades);"
   ]
  },
  {
   "attachments": {},
   "cell_type": "markdown",
   "metadata": {},
   "source": [
    "10) Encontrar el índice de la ciudad que en el punto 7 agregamos duplicada. ¿Se nota alguna particularidad?"
   ]
  },
  {
   "cell_type": "code",
   "execution_count": 155,
   "metadata": {},
   "outputs": [
    {
     "name": "stdout",
     "output_type": "stream",
     "text": [
      "2\n"
     ]
    }
   ],
   "source": [
    "print(ciudades.index(\"Nueva York\"));"
   ]
  },
  {
   "attachments": {},
   "cell_type": "markdown",
   "metadata": {},
   "source": [
    "11) ¿Qué pasa si se busca un elemento que no existe?"
   ]
  },
  {
   "cell_type": "code",
   "execution_count": 156,
   "metadata": {},
   "outputs": [
    {
     "ename": "ValueError",
     "evalue": "'Bogotá' is not in list",
     "output_type": "error",
     "traceback": [
      "\u001b[1;31m---------------------------------------------------------------------------\u001b[0m",
      "\u001b[1;31mValueError\u001b[0m                                Traceback (most recent call last)",
      "\u001b[1;32mc:\\Users\\ingdi\\SoyHenry\\SH-DS\\Python-Prep\\M05_estructuradedatos\\Prep_Course_Homework_05.ipynb Celda 23\u001b[0m line \u001b[0;36m1\n\u001b[1;32m----> <a href='vscode-notebook-cell:/c%3A/Users/ingdi/SoyHenry/SH-DS/Python-Prep/M05_estructuradedatos/Prep_Course_Homework_05.ipynb#X31sZmlsZQ%3D%3D?line=0'>1</a>\u001b[0m \u001b[39mprint\u001b[39m(ciudades\u001b[39m.\u001b[39;49mindex(\u001b[39m\"\u001b[39;49m\u001b[39mBogotá\u001b[39;49m\u001b[39m\"\u001b[39;49m));\n\u001b[0;32m      <a href='vscode-notebook-cell:/c%3A/Users/ingdi/SoyHenry/SH-DS/Python-Prep/M05_estructuradedatos/Prep_Course_Homework_05.ipynb#X31sZmlsZQ%3D%3D?line=1'>2</a>\u001b[0m \u001b[39m## Sucede un error\u001b[39;00m\n",
      "\u001b[1;31mValueError\u001b[0m: 'Bogotá' is not in list"
     ]
    }
   ],
   "source": [
    "print(ciudades.index(\"Bogotá\"));\n",
    "## Sucede un error"
   ]
  },
  {
   "attachments": {},
   "cell_type": "markdown",
   "metadata": {},
   "source": [
    "12) Eliminar un elemento de la lista"
   ]
  },
  {
   "cell_type": "code",
   "execution_count": 157,
   "metadata": {},
   "outputs": [
    {
     "name": "stdout",
     "output_type": "stream",
     "text": [
      "['México', 'Londres', 'Monterrey', 'Barcelona', 'Buenos Aires', 'Guadalajara', 'Nueva York', 'Bogota', 'California', 'Reino Unido', 'Puebla', 'Tehuacán', 'Guadalajara']\n"
     ]
    }
   ],
   "source": [
    "ciudades.remove(\"Nueva York\");\n",
    "print(ciudades);"
   ]
  },
  {
   "attachments": {},
   "cell_type": "markdown",
   "metadata": {},
   "source": [
    "13) ¿Qué pasa si el elemento a eliminar no existe?"
   ]
  },
  {
   "cell_type": "code",
   "execution_count": 158,
   "metadata": {},
   "outputs": [
    {
     "ename": "ValueError",
     "evalue": "list.remove(x): x not in list",
     "output_type": "error",
     "traceback": [
      "\u001b[1;31m---------------------------------------------------------------------------\u001b[0m",
      "\u001b[1;31mValueError\u001b[0m                                Traceback (most recent call last)",
      "\u001b[1;32mc:\\Users\\ingdi\\SoyHenry\\SH-DS\\Python-Prep\\M05_estructuradedatos\\Prep_Course_Homework_05.ipynb Celda 27\u001b[0m line \u001b[0;36m1\n\u001b[1;32m----> <a href='vscode-notebook-cell:/c%3A/Users/ingdi/SoyHenry/SH-DS/Python-Prep/M05_estructuradedatos/Prep_Course_Homework_05.ipynb#X35sZmlsZQ%3D%3D?line=0'>1</a>\u001b[0m ciudades\u001b[39m.\u001b[39;49mremove(\u001b[39m\"\u001b[39;49m\u001b[39mNew York\u001b[39;49m\u001b[39m\"\u001b[39;49m);\n\u001b[0;32m      <a href='vscode-notebook-cell:/c%3A/Users/ingdi/SoyHenry/SH-DS/Python-Prep/M05_estructuradedatos/Prep_Course_Homework_05.ipynb#X35sZmlsZQ%3D%3D?line=1'>2</a>\u001b[0m \u001b[39m## Sucede un error\u001b[39;00m\n",
      "\u001b[1;31mValueError\u001b[0m: list.remove(x): x not in list"
     ]
    }
   ],
   "source": [
    "ciudades.remove(\"New York\");\n",
    "## Sucede un error"
   ]
  },
  {
   "attachments": {},
   "cell_type": "markdown",
   "metadata": {},
   "source": [
    "14) Extraer el úlimo elemento de la lista, guardarlo en una variable e imprimirlo"
   ]
  },
  {
   "cell_type": "code",
   "execution_count": 159,
   "metadata": {},
   "outputs": [
    {
     "name": "stdout",
     "output_type": "stream",
     "text": [
      "Guadalajara\n"
     ]
    }
   ],
   "source": [
    "ultima_ciudad = ciudades.pop();\n",
    "print(ultima_ciudad);"
   ]
  },
  {
   "attachments": {},
   "cell_type": "markdown",
   "metadata": {},
   "source": [
    "15) Mostrar la lista multiplicada por 4"
   ]
  },
  {
   "cell_type": "code",
   "execution_count": 160,
   "metadata": {},
   "outputs": [
    {
     "name": "stdout",
     "output_type": "stream",
     "text": [
      "['México', 'Londres', 'Monterrey', 'Barcelona', 'Buenos Aires', 'Guadalajara', 'Nueva York', 'Bogota', 'California', 'Reino Unido', 'Puebla', 'Tehuacán', 'México', 'Londres', 'Monterrey', 'Barcelona', 'Buenos Aires', 'Guadalajara', 'Nueva York', 'Bogota', 'California', 'Reino Unido', 'Puebla', 'Tehuacán', 'México', 'Londres', 'Monterrey', 'Barcelona', 'Buenos Aires', 'Guadalajara', 'Nueva York', 'Bogota', 'California', 'Reino Unido', 'Puebla', 'Tehuacán', 'México', 'Londres', 'Monterrey', 'Barcelona', 'Buenos Aires', 'Guadalajara', 'Nueva York', 'Bogota', 'California', 'Reino Unido', 'Puebla', 'Tehuacán']\n"
     ]
    }
   ],
   "source": [
    "print(ciudades * 4);"
   ]
  },
  {
   "attachments": {},
   "cell_type": "markdown",
   "metadata": {},
   "source": [
    "16) Crear una tupla que contenga los números enteros del 1 al 20"
   ]
  },
  {
   "cell_type": "code",
   "execution_count": 161,
   "metadata": {},
   "outputs": [
    {
     "name": "stdout",
     "output_type": "stream",
     "text": [
      "(1, 2, 3, 4, 5, 6, 7, 8, 9, 10, 11, 12, 13, 14, 15, 16, 17, 18, 19, 20)\n"
     ]
    }
   ],
   "source": [
    "tupla_numerica = (1,2,3,4,5,6,7,8,9,10,11,12,13,14,15,16,17,18,19,20);\n",
    "print(tupla_numerica);"
   ]
  },
  {
   "attachments": {},
   "cell_type": "markdown",
   "metadata": {},
   "source": [
    "17) Imprimir desde el índice 10 al 15 de la tupla"
   ]
  },
  {
   "cell_type": "code",
   "execution_count": 162,
   "metadata": {},
   "outputs": [
    {
     "name": "stdout",
     "output_type": "stream",
     "text": [
      "(11, 12, 13, 14, 15, 16)\n"
     ]
    }
   ],
   "source": [
    "print(tupla_numerica[10: 16]);"
   ]
  },
  {
   "attachments": {},
   "cell_type": "markdown",
   "metadata": {},
   "source": [
    "18) Evaluar si los números 20 y 30 están dentro de la tupla"
   ]
  },
  {
   "cell_type": "code",
   "execution_count": 163,
   "metadata": {},
   "outputs": [
    {
     "name": "stdout",
     "output_type": "stream",
     "text": [
      "El numero 20 está en la tupla.\n",
      "El numero 30 no está en la tupla.\n"
     ]
    }
   ],
   "source": [
    "num_a_evaluar1 = 20;\n",
    "num_a_evaluar2 = 30;\n",
    "\n",
    "if (20 in tupla_numerica):\n",
    "    print (f\"El numero {num_a_evaluar1} está en la tupla.\");\n",
    "else:\n",
    "    print (f\"El numero {num_a_evaluar2} no está en la tupla.\");\n",
    "\n",
    "if (30 in tupla_numerica):\n",
    "    print (f\"El numero {num_a_evaluar1} está en la tupla.\");\n",
    "else:\n",
    "    print (f\"El numero {num_a_evaluar2} no está en la tupla.\");"
   ]
  },
  {
   "attachments": {},
   "cell_type": "markdown",
   "metadata": {},
   "source": [
    "19) Con la lista creada en el punto 1, validar la existencia del elemento 'París' y si no existe, agregarlo. Utilizar una variable e informar lo sucedido."
   ]
  },
  {
   "cell_type": "code",
   "execution_count": 164,
   "metadata": {},
   "outputs": [
    {
     "name": "stdout",
     "output_type": "stream",
     "text": [
      "La ciudad París se ha agregado a la lista.\n"
     ]
    }
   ],
   "source": [
    "ciudad_a_agregar = \"París\";\n",
    "\n",
    "if (ciudad_a_agregar in ciudades):\n",
    "    print (f\"La ciudad {ciudad_a_agregar} ya se encuentra en la lista.\");\n",
    "else:\n",
    "    ciudades.append(ciudad_a_agregar);\n",
    "    print (f\"La ciudad {ciudad_a_agregar} se ha agregado a la lista.\");"
   ]
  },
  {
   "attachments": {},
   "cell_type": "markdown",
   "metadata": {},
   "source": [
    "20) Mostrar la cantidad de veces que se encuentra un elemento específico dentro de la tupla y de la lista"
   ]
  },
  {
   "cell_type": "code",
   "execution_count": 165,
   "metadata": {},
   "outputs": [
    {
     "name": "stdout",
     "output_type": "stream",
     "text": [
      "El número 10 se encuentra 1 veces en la lista.\n",
      "La ciudad Monterrey se encuentra 1 veces en la lista.\n"
     ]
    }
   ],
   "source": [
    "elemento_en_tupla = 10;\n",
    "elemento_en_lista = \"Monterrey\";\n",
    "\n",
    "print (f\"El número {elemento_en_tupla} se encuentra {tupla_numerica.count(elemento_en_tupla)} veces en la lista.\");\n",
    "print (f\"La ciudad {elemento_en_lista} se encuentra {ciudades.count(elemento_en_lista)} veces en la lista.\");"
   ]
  },
  {
   "attachments": {},
   "cell_type": "markdown",
   "metadata": {},
   "source": [
    "21) Convertir la tupla en una lista"
   ]
  },
  {
   "cell_type": "code",
   "execution_count": 166,
   "metadata": {},
   "outputs": [
    {
     "name": "stdout",
     "output_type": "stream",
     "text": [
      "[1, 2, 3, 4, 5, 6, 7, 8, 9, 10, 11, 12, 13, 14, 15, 16, 17, 18, 19, 20]\n"
     ]
    }
   ],
   "source": [
    "nueva_lista = list(tupla_numerica);\n",
    "print (nueva_lista);"
   ]
  },
  {
   "attachments": {},
   "cell_type": "markdown",
   "metadata": {},
   "source": [
    "22) Desempaquetar solo los primeros 3 elementos de la tupla en 3 variables"
   ]
  },
  {
   "cell_type": "code",
   "execution_count": 167,
   "metadata": {},
   "outputs": [
    {
     "name": "stdout",
     "output_type": "stream",
     "text": [
      "1 2 3\n"
     ]
    }
   ],
   "source": [
    "num1 = tupla_numerica[0];\n",
    "num2 = tupla_numerica[1];\n",
    "num3 = tupla_numerica[2];\n",
    "\n",
    "print(num1, num2, num3);"
   ]
  },
  {
   "attachments": {},
   "cell_type": "markdown",
   "metadata": {},
   "source": [
    "23) Crear un diccionario utilizando la lista crada en el punto 1, asignandole la clave \"ciudad\". Agregar tambien otras claves, como puede ser \"Pais\" y \"Continente\"."
   ]
  },
  {
   "cell_type": "code",
   "execution_count": 196,
   "metadata": {},
   "outputs": [
    {
     "name": "stdout",
     "output_type": "stream",
     "text": [
      "{'Ciudad 1': 'México', 'Ciudad 2': 'Londres', 'Ciudad 3': 'Monterrey', 'Ciudad 4': 'Barcelona', 'Ciudad 5': 'Buenos Aires', 'Ciudad 6': 'Guadalajara', 'Ciudad 7': 'Nueva York', 'Ciudad 8': 'Bogota', 'Ciudad 9': 'California', 'Ciudad 10': 'Reino Unido', 'Ciudad 11': 'Puebla', 'Ciudad 12': 'Tehuacán', 'Ciudad 13': 'París', 'paises': '', 'continentes': ['America', 'Europa']}\n"
     ]
    }
   ],
   "source": [
    "diccionario_ciudades = dict();\n",
    "\n",
    "for i in range (0, len(ciudades)):\n",
    "    diccionario_ciudades[f\"Ciudad {i+1}\"] = ciudades[i] ;\n",
    "\n",
    "diccionario_ciudades [\"paises\"] = \"\";\n",
    "diccionario_ciudades [\"continentes\"] = [\"America\", \"Europa\"];\n",
    "\n",
    "print (diccionario_ciudades);"
   ]
  },
  {
   "attachments": {},
   "cell_type": "markdown",
   "metadata": {},
   "source": [
    "24) Imprimir las claves del diccionario"
   ]
  },
  {
   "cell_type": "code",
   "execution_count": 197,
   "metadata": {},
   "outputs": [
    {
     "name": "stdout",
     "output_type": "stream",
     "text": [
      "dict_keys(['Ciudad 1', 'Ciudad 2', 'Ciudad 3', 'Ciudad 4', 'Ciudad 5', 'Ciudad 6', 'Ciudad 7', 'Ciudad 8', 'Ciudad 9', 'Ciudad 10', 'Ciudad 11', 'Ciudad 12', 'Ciudad 13', 'paises', 'continentes'])\n"
     ]
    }
   ],
   "source": [
    "print (diccionario_ciudades.keys());"
   ]
  },
  {
   "attachments": {},
   "cell_type": "markdown",
   "metadata": {},
   "source": [
    "25) Imprimir las ciudades a través de su clave"
   ]
  },
  {
   "cell_type": "code",
   "execution_count": 198,
   "metadata": {},
   "outputs": [
    {
     "name": "stdout",
     "output_type": "stream",
     "text": [
      "dict_values(['México', 'Londres', 'Monterrey', 'Barcelona', 'Buenos Aires', 'Guadalajara', 'Nueva York', 'Bogota', 'California', 'Reino Unido', 'Puebla', 'Tehuacán', 'París', '', ['America', 'Europa']])\n"
     ]
    }
   ],
   "source": [
    "print (diccionario_ciudades.values());"
   ]
  }
 ],
 "metadata": {
  "interpreter": {
   "hash": "c85384e4cb51c8b72350f3a8712cc8351fdc3955e32a27f9b60c6242ab125f01"
  },
  "kernelspec": {
   "display_name": "Python 3 (ipykernel)",
   "language": "python",
   "name": "python3"
  },
  "language_info": {
   "codemirror_mode": {
    "name": "ipython",
    "version": 3
   },
   "file_extension": ".py",
   "mimetype": "text/x-python",
   "name": "python",
   "nbconvert_exporter": "python",
   "pygments_lexer": "ipython3",
   "version": "3.9.7"
  }
 },
 "nbformat": 4,
 "nbformat_minor": 4
}
