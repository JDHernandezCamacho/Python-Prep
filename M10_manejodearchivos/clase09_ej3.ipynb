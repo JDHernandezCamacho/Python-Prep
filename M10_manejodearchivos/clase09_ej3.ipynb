{
 "cells": [
  {
   "cell_type": "markdown",
   "metadata": {},
   "source": [
    "3) Crear un archivo a partir de los datos presentes en el diccionario provisto. El cual debe contener en la primera fila el nombre de las claves y luego cada línea los elementos i-ésimos de las listas de valores contiguos y separados por coma ','. Este archivo debe llamarse clase09_ej3.csv\n"
   ]
  },
  {
   "cell_type": "code",
   "execution_count": 5,
   "metadata": {},
   "outputs": [],
   "source": [
    "montañas = {'nombre':[  'Everest','K2','Kanchenjunga','Lhotse','Makalu',\n",
    "                        'Cho Oyu','Dhaulagiri','Manaslu','Nanga Parbat','Annapurna I'],\n",
    "            'orden':[1,2,3,4,5,6,7,8,9,10],\n",
    "            'cordillera':['Himalaya','Karakórum','Himalaya','Himalaya','Himalaya'\n",
    "                        ,'Himalaya','Himalaya','Himalaya','Karakórum','Himalaya'],\n",
    "            'pais': ['Nepal','Pakistán','Nepal','Nepal','Nepal','Nepal','Nepal','Nepal',\n",
    "                    'Pakistán','Nepal'],\n",
    "            'altura':[8849,8611,8586,8516,8485,8188,8167,8163,8125,8091]};"
   ]
  },
  {
   "cell_type": "code",
   "execution_count": 6,
   "metadata": {},
   "outputs": [
    {
     "name": "stdout",
     "output_type": "stream",
     "text": [
      "La ruta específicada, ya existe.\n"
     ]
    }
   ],
   "source": [
    "import os;\n",
    "ruta = \"./clase09_mountains/\";\n",
    "exite_ubicacion = os.path.isdir(ruta);\n",
    "if(exite_ubicacion):\n",
    "    print (\"La ruta específicada, ya existe.\");\n",
    "else:\n",
    "    os.mkdir(ruta);\n",
    "    print (f\"Se ha creado la ruta específicada {ruta}.\");"
   ]
  },
  {
   "cell_type": "code",
   "execution_count": 7,
   "metadata": {},
   "outputs": [
    {
     "name": "stdout",
     "output_type": "stream",
     "text": [
      "nombre,orden,cordillera,pais,altura\n",
      "Everest,1,Himalaya,Nepal,8849\n",
      "K2,2,Karakórum,Pakistán,8611\n",
      "Kanchenjunga,3,Himalaya,Nepal,8586\n",
      "Lhotse,4,Himalaya,Nepal,8516\n",
      "Makalu,5,Himalaya,Nepal,8485\n",
      "Cho Oyu,6,Himalaya,Nepal,8188\n",
      "Dhaulagiri,7,Himalaya,Nepal,8167\n",
      "Manaslu,8,Himalaya,Nepal,8163\n",
      "Nanga Parbat,9,Karakórum,Pakistán,8125\n",
      "Annapurna I,10,Himalaya,Nepal,8091\n",
      "\n"
     ]
    }
   ],
   "source": [
    "##Código para crear la línea principal##\n",
    "main_line = \"\";\n",
    "next_line = \"\";\n",
    "escritura = \"\";\n",
    "for index,clave in enumerate(montañas):\n",
    "    if (index == len(montañas)-1):\n",
    "        main_line += clave + \"\\n\";\n",
    "    else:\n",
    "        main_line += clave + \",\";\n",
    "escritura += main_line;\n",
    "\n",
    "\n",
    "##Código para crear el resto de líneas##\n",
    "for i in range(len(montañas[\"nombre\"])):\n",
    "    list_values = []; \n",
    "    for key in montañas.keys():\n",
    "        value = str(montañas[key][i]);\n",
    "        list_values.append(value)\n",
    "    next_line = ','.join(list_values) + '\\n';\n",
    "    escritura += next_line;\n",
    "\n",
    "print (escritura);"
   ]
  },
  {
   "cell_type": "code",
   "execution_count": 14,
   "metadata": {},
   "outputs": [
    {
     "name": "stdout",
     "output_type": "stream",
     "text": [
      "El archivo ya existe se sobreescribirá.\n",
      "Los datos se han guardado con éxito en el archivo ./clase09_mountains/clase09_ej3.csv\n"
     ]
    }
   ],
   "source": [
    "import os;\n",
    "existe_archivo = os.path.isfile(ruta+\"clase09_ej3.csv\");\n",
    "\n",
    "\n",
    "\n",
    "if (existe_archivo):\n",
    "    print(\"El archivo ya existe se sobreescribirá.\");\n",
    "else:\n",
    "    print(f\"El directorio no existe, se ha creado en la ruta {ruta+\"clase09_ej3.csv\"}.\");\n",
    "\n",
    "\n",
    "\n",
    "archivo = open(ruta+\"clase09_ej3.csv\", \"w\", encoding=\"utf-8\");\n",
    "archivo.write(escritura);\n",
    "archivo.close();\n",
    "\n",
    "\n",
    "\n",
    "print(f\"Los datos se han guardado con éxito en el archivo {ruta+\"clase09_ej3.csv\"}\")\n"
   ]
  },
  {
   "cell_type": "markdown",
   "metadata": {},
   "source": [
    "4) Mostrar el tamaño en MB del archivo generado en el punto 3"
   ]
  },
  {
   "cell_type": "code",
   "execution_count": 21,
   "metadata": {},
   "outputs": [
    {
     "name": "stdout",
     "output_type": "stream",
     "text": [
      "El tamaño del archivo ./clase09_mountains/clase09_ej3.csv es 0.36 MB\n"
     ]
    }
   ],
   "source": [
    "size_file = os.path.getsize(ruta+\"clase09_ej3.csv\");\n",
    "size_file = size_file/1024;\n",
    "print(f\"El tamaño del archivo {ruta+\"clase09_ej3.csv\"} es {round(size_file,2)} MB\");\n"
   ]
  },
  {
   "cell_type": "markdown",
   "metadata": {},
   "source": [
    "5) Crear una carpeta llamada clase09_montañas_altas\n"
   ]
  },
  {
   "cell_type": "code",
   "execution_count": 39,
   "metadata": {},
   "outputs": [
    {
     "name": "stdout",
     "output_type": "stream",
     "text": [
      "El directorio ya existe.\n"
     ]
    }
   ],
   "source": [
    "new_dir = os.getcwd()+\"/clase09_montanas_altas_2\";\n",
    "# print(new_dir);\n",
    "existe_dir = os.path.isdir(new_dir);\n",
    "# print (existe_dir);\n",
    "if (existe_dir):\n",
    "    print(f\"El directorio ya existe.\");\n",
    "else:\n",
    "    os.mkdir(\"clase09_montanas_altas_2\");\n",
    "    print(f\"El directorio no existe.Se ha creado la ruta {new_dir}\");"
   ]
  },
  {
   "cell_type": "markdown",
   "metadata": {},
   "source": [
    "6) Copiar el archivo clase09_ej3.scv en la carpeta clase09_montañas_altas usando la sentencia **os.system**"
   ]
  },
  {
   "cell_type": "code",
   "execution_count": 26,
   "metadata": {},
   "outputs": [
    {
     "name": "stdout",
     "output_type": "stream",
     "text": [
      "El archivo se ha copiado con éxito.\n"
     ]
    }
   ],
   "source": [
    "import os;\n",
    "ruta_origen = os.getcwd()+\"\\\\clase09_mountains\\\\clase09_ej3.csv\";\n",
    "ruta_destino = os.getcwd() + \"\\\\clase09_montanas_altas_2\\\\clase09_ej3.csv\";\n",
    "\n",
    "\n",
    "comando = f\"copy {ruta_origen} {ruta_destino}\";\n",
    "resultado = os.system(comando);\n",
    "\n",
    "if (resultado == 0):\n",
    "    print(f\"El archivo se ha copiado con éxito.\");\n",
    "else :\n",
    "    print (f\"Ocurrió un problema, no se han copiado archivos.\")"
   ]
  },
  {
   "cell_type": "markdown",
   "metadata": {},
   "source": [
    "7) Listar el contenido de la carpeta clase09_montañas_altas"
   ]
  },
  {
   "cell_type": "code",
   "execution_count": 28,
   "metadata": {},
   "outputs": [
    {
     "name": "stdout",
     "output_type": "stream",
     "text": [
      "['clase09_ej3.csv']\n"
     ]
    }
   ],
   "source": [
    "print(os.listdir(\"./clase09_montanas_altas_2/\"));"
   ]
  }
 ],
 "metadata": {
  "kernelspec": {
   "display_name": "Python 3",
   "language": "python",
   "name": "python3"
  },
  "language_info": {
   "codemirror_mode": {
    "name": "ipython",
    "version": 3
   },
   "file_extension": ".py",
   "mimetype": "text/x-python",
   "name": "python",
   "nbconvert_exporter": "python",
   "pygments_lexer": "ipython3",
   "version": "3.12.0"
  }
 },
 "nbformat": 4,
 "nbformat_minor": 2
}
